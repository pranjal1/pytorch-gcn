{
 "cells": [
  {
   "cell_type": "code",
   "execution_count": 1,
   "metadata": {},
   "outputs": [],
   "source": [
    "%reload_ext autoreload\n",
    "%autoreload 2"
   ]
  },
  {
   "cell_type": "code",
   "execution_count": 2,
   "metadata": {},
   "outputs": [],
   "source": [
    "from gcn.dataloader import YooChooseDataset"
   ]
  },
  {
   "cell_type": "code",
   "execution_count": 3,
   "metadata": {},
   "outputs": [
    {
     "name": "stderr",
     "output_type": "stream",
     "text": [
      "2020-08-22 15:28:00.942 | INFO     | gcn.dataloader:raw_file_names:30 - Required files check!\n"
     ]
    },
    {
     "name": "stdout",
     "output_type": "stream",
     "text": [
      "Processing...\n"
     ]
    },
    {
     "name": "stderr",
     "output_type": "stream",
     "text": [
      "/home/pranjal/miniconda3/envs/gcn/lib/python3.8/site-packages/torch_geometric/data/dataset.py:92: DtypeWarning: Columns (3) have mixed types.Specify dtype option on import or set low_memory=False.\n",
      "  self._process()\n",
      "2020-08-22 15:28:54.220 | INFO     | gcn.dataloader:initialize_df:51 - Removing sessions with less than 3 item ids...\n",
      "2020-08-22 15:29:10.009 | INFO     | gcn.dataloader:initialize_df:59 - Sampling 250000 sessions...\n",
      "2020-08-22 15:29:17.405 | INFO     | gcn.dataloader:initialize_df:66 - Mapping item ids to smaller range...\n",
      "2020-08-22 15:29:17.706 | INFO     | gcn.dataloader:initialize_df:71 - Determining the target class of the sessions (buy/not buy)...\n",
      "2020-08-22 15:29:19.556 | INFO     | gcn.dataloader:initialize_df:77 - Loading dataset done!\n",
      "2020-08-22 15:29:19.557 | INFO     | gcn.dataloader:process:83 - Processing dataset...\n",
      "100%|██████████| 250000/250000 [10:08<00:00, 410.79it/s]\n",
      "2020-08-22 15:39:30.604 | INFO     | gcn.dataloader:process:107 - Completed processing!\n",
      "2020-08-22 15:39:33.048 | INFO     | gcn.dataloader:process:110 - Processed files saved as /home/pranjal/GCN/pytorch-gcn/tmp/yoochoose_click_binary_1M_sess.dataset\n"
     ]
    },
    {
     "name": "stdout",
     "output_type": "stream",
     "text": [
      "Done!\n"
     ]
    }
   ],
   "source": [
    "ds = YooChooseDataset(root=\"/home/pranjal/GCN/pytorch-gcn/tmp/\")"
   ]
  },
  {
   "cell_type": "code",
   "execution_count": null,
   "metadata": {},
   "outputs": [],
   "source": []
  }
 ],
 "metadata": {
  "kernelspec": {
   "display_name": "Python 3.8.5 64-bit ('gcn': conda)",
   "language": "python",
   "name": "python38564bitgcncondacb855bff8b454c0bbae31f8183fac245"
  },
  "language_info": {
   "codemirror_mode": {
    "name": "ipython",
    "version": 3
   },
   "file_extension": ".py",
   "mimetype": "text/x-python",
   "name": "python",
   "nbconvert_exporter": "python",
   "pygments_lexer": "ipython3",
   "version": "3.8.5"
  }
 },
 "nbformat": 4,
 "nbformat_minor": 4
}
