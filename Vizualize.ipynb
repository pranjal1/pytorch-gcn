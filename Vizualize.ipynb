{
 "cells": [
  {
   "cell_type": "code",
   "execution_count": 1,
   "metadata": {},
   "outputs": [],
   "source": [
    "%reload_ext autoreload\n",
    "%autoreload 2"
   ]
  },
  {
   "cell_type": "markdown",
   "metadata": {},
   "source": [
    "<center><h1>Graph Convolution Network using PyTorch Geometric</h1></center>"
   ]
  },
  {
   "cell_type": "markdown",
   "metadata": {},
   "source": [
    "$$\\mathbf{x}_i^{(k)} = \\gamma^{(k)} \\left( \\mathbf{x}_i^{(k-1)}, \\square_{j \\in \\mathcal{N}(i)} \\, \\phi^{(k)}\\left(\\mathbf{x}_i^{(k-1)}, \\mathbf{x}_j^{(k-1)},\\mathbf{e}_{j,i}\\right) \\right),$$"
   ]
  },
  {
   "cell_type": "markdown",
   "metadata": {},
   "source": [
    "<h3><a href=\"https://arxiv.org/abs/1609.02907\">GCN layer from Kipf and Welling</a><h3>"
   ]
  },
  {
   "cell_type": "markdown",
   "metadata": {},
   "source": [
    "<div style=\"background-color:rgba(192,192,192,0.3); padding:10px 0; font-size:110%; color:black;\">\n",
    "The Kipf and Welling paper describes the Graph Convolution operation as:\n",
    "</div>"
   ]
  },
  {
   "cell_type": "markdown",
   "metadata": {},
   "source": [
    "$$\\mathbf{x}_i^{(k)} = \\sum_{j \\in \\mathcal{N}(i) \\cup \\{ i \\}} \\frac{1}{\\sqrt{\\deg(i)} \\cdot \\sqrt{\\deg(j)}} \\cdot \\left( \\mathbf{\\Theta} \\cdot \\mathbf{x}_j^{(k-1)} \\right)$$<br>$\\mathbf{\\Theta}\\text{ is the weight matrix by which the neighboring nodes are transformed.}$<br>$\\mathcal{N}(i)\\text{ are the Neighborhood nodes of node }\\mathcal{i}.$<br>$\\mathbf{x}_j^{(k-1)}\\text{ is the feature of node }\\mathcal{j}\\text{ at layer }\\mathcal{(k-1)}.$<br>$\\mathbf{deg(i)}\\text{ gives the degree of node }\\mathcal{i}\\text{.}$"
   ]
  },
  {
   "cell_type": "markdown",
   "metadata": {},
   "source": [
    "<div style=\"background-color:rgba(192,192,192,0.3); padding:10px 0; font-size:110%; color:black\">\n",
    "The operation can be broken down into the following steps:\n",
    "<ol>\n",
    "    <li> Add self-loops to the Adjacency matrix.\n",
    "    <li> Compute normalization coefficients.\n",
    "    <li> Linearly transform node feature matrix.\n",
    "    <li> Normalize node features in ϕ.\n",
    "    <li> Sum up neighboring node features (if \"add\" aggregation).\n",
    "</ol>\n",
    "</div>"
   ]
  },
  {
   "cell_type": "markdown",
   "metadata": {},
   "source": [
    "<h3>A Graph network</h3>"
   ]
  },
  {
   "cell_type": "code",
   "execution_count": 2,
   "metadata": {},
   "outputs": [],
   "source": [
    "import torch\n",
    "from torch_geometric.data import Data"
   ]
  },
  {
   "cell_type": "code",
   "execution_count": 3,
   "metadata": {},
   "outputs": [],
   "source": [
    "#define property of the nodes or node features\n",
    "x = torch.tensor([[2,1], [5,6], [3,7], [12,0]], dtype=torch.float)"
   ]
  },
  {
   "cell_type": "code",
   "execution_count": 4,
   "metadata": {},
   "outputs": [],
   "source": [
    "#define edges between the nodes\n",
    "edge_index = torch.tensor([[0, 1, 2, 0, 3],\n",
    "                           [1, 0, 1, 3, 2]], dtype=torch.long)"
   ]
  },
  {
   "cell_type": "code",
   "execution_count": 5,
   "metadata": {},
   "outputs": [],
   "source": [
    "#define the property of edges\n",
    "edge_attr = torch.tensor([4,10,3,1,5],dtype=torch.float)"
   ]
  },
  {
   "cell_type": "code",
   "execution_count": 6,
   "metadata": {},
   "outputs": [],
   "source": [
    "#define the classes the nodes belong to\n",
    "y = torch.tensor([0, 1, 0, 1], dtype=torch.float)"
   ]
  },
  {
   "cell_type": "markdown",
   "metadata": {},
   "source": [
    "<div style=\"background-color:rgba(192,192,192,0.3); padding:1px 0; font-size:105%; color:black\">\n",
    "<p>With these defined, the PyTorch Geometric's <b>Data</b> object now can be initialized</p>\n",
    "</div>"
   ]
  },
  {
   "cell_type": "code",
   "execution_count": 7,
   "metadata": {},
   "outputs": [],
   "source": [
    "g = Data(x=x,edge_index=edge_index,edge_attr=edge_attr,y=y)"
   ]
  },
  {
   "cell_type": "markdown",
   "metadata": {},
   "source": [
    "<center><img src=\"tmp/viz_objects/1.png\" alt=\"Input\" style=\"width: 500px;\"/></center>"
   ]
  },
  {
   "cell_type": "markdown",
   "metadata": {},
   "source": [
    "<div style=\"background-color:rgba(192,192,192,0.3); font-size:105%; color:black\">\n",
    "<h4> Step 1:</h4>\n",
    "<p>Add self-loops to the Adjacency matrix.</p>\n",
    "</div>"
   ]
  },
  {
   "cell_type": "markdown",
   "metadata": {},
   "source": [
    "<div style=\"background-color:rgba(192,192,192,0.3); font-size:105%; color:black\">\n",
    "<p>This step is required to aggregate the node's own feature with the features of its neighboring nodes:</p>\n",
    "</div>"
   ]
  },
  {
   "cell_type": "markdown",
   "metadata": {},
   "source": [
    "<div style=\"background-color:rgba(192,192,192,0.3); font-size:105%; color:black\">\n",
    "<p>Before:</p>\n",
    "</div>"
   ]
  },
  {
   "cell_type": "code",
   "execution_count": 8,
   "metadata": {},
   "outputs": [
    {
     "data": {
      "text/plain": [
       "tensor([[0, 1, 2, 0, 3],\n",
       "        [1, 0, 1, 3, 2]])"
      ]
     },
     "execution_count": 8,
     "metadata": {},
     "output_type": "execute_result"
    }
   ],
   "source": [
    "g.edge_index"
   ]
  },
  {
   "cell_type": "code",
   "execution_count": 9,
   "metadata": {},
   "outputs": [
    {
     "data": {
      "text/plain": [
       "tensor([ 4., 10.,  3.,  1.,  5.])"
      ]
     },
     "execution_count": 9,
     "metadata": {},
     "output_type": "execute_result"
    }
   ],
   "source": [
    "g.edge_attr"
   ]
  },
  {
   "cell_type": "markdown",
   "metadata": {},
   "source": [
    "<div style=\"background-color:rgba(192,192,192,0.3); font-size:105%; color:black\">\n",
    "<p>After:</p>\n",
    "</div>"
   ]
  },
  {
   "cell_type": "code",
   "execution_count": 10,
   "metadata": {},
   "outputs": [],
   "source": [
    "from torch_geometric.utils import add_remaining_self_loops"
   ]
  },
  {
   "cell_type": "code",
   "execution_count": 11,
   "metadata": {},
   "outputs": [],
   "source": [
    "new_edge_index, new_edge_attr = add_remaining_self_loops(\n",
    "            edge_index, edge_attr, fill_value=1., num_nodes=4)"
   ]
  },
  {
   "cell_type": "code",
   "execution_count": 12,
   "metadata": {},
   "outputs": [
    {
     "data": {
      "text/plain": [
       "tensor([[0, 1, 2, 0, 3, 0, 1, 2, 3],\n",
       "        [1, 0, 1, 3, 2, 0, 1, 2, 3]])"
      ]
     },
     "execution_count": 12,
     "metadata": {},
     "output_type": "execute_result"
    }
   ],
   "source": [
    "new_edge_index"
   ]
  },
  {
   "cell_type": "code",
   "execution_count": 13,
   "metadata": {},
   "outputs": [
    {
     "data": {
      "text/plain": [
       "tensor([ 4., 10.,  3.,  1.,  5.,  1.,  1.,  1.,  1.])"
      ]
     },
     "execution_count": 13,
     "metadata": {},
     "output_type": "execute_result"
    }
   ],
   "source": [
    "new_edge_attr"
   ]
  },
  {
   "cell_type": "markdown",
   "metadata": {},
   "source": [
    "<center><img src=\"tmp/viz_objects/2.png\" alt=\"Add-Self-Loop\" style=\"width: 500px;\"/></center>"
   ]
  },
  {
   "cell_type": "markdown",
   "metadata": {},
   "source": [
    "<div style=\"background-color:rgba(192,192,192,0.3); font-size:105%; color:black\">\n",
    "<h4> Step 2:</h4>\n",
    "<p>Compute normalization coefficients.</p>\n",
    "</div>"
   ]
  },
  {
   "cell_type": "code",
   "execution_count": 14,
   "metadata": {},
   "outputs": [],
   "source": [
    "from torch_scatter import scatter_add"
   ]
  },
  {
   "cell_type": "code",
   "execution_count": 15,
   "metadata": {},
   "outputs": [],
   "source": [
    "#compute the degree of each node (Sum of weights in edges incoming towards a node)\n",
    "row, col = new_edge_index[0], new_edge_index[1]\n",
    "deg = scatter_add(new_edge_attr, col, dim=0, dim_size=4)#dim_size = num_nodes\n",
    "#Compute the normalization coefficients\n",
    "deg_inv_sqrt = deg.pow_(-0.5)\n",
    "deg_inv_sqrt.masked_fill_(deg_inv_sqrt == float('inf'), 0)\n",
    "normalized_coefficients = deg_inv_sqrt[row] * new_edge_attr * deg_inv_sqrt[col]"
   ]
  },
  {
   "cell_type": "code",
   "execution_count": 16,
   "metadata": {},
   "outputs": [
    {
     "data": {
      "text/plain": [
       "tensor([0.4264, 1.0660, 0.4330, 0.2132, 1.4434, 0.0909, 0.1250, 0.1667, 0.5000])"
      ]
     },
     "execution_count": 16,
     "metadata": {},
     "output_type": "execute_result"
    }
   ],
   "source": [
    "normalized_coefficients"
   ]
  },
  {
   "cell_type": "markdown",
   "metadata": {},
   "source": [
    "<div style=\"background-color:rgba(192,192,192,0.3); font-size:105%; color:black\">\n",
    "<p>Normalizing:</p>\n",
    "</div>"
   ]
  },
  {
   "cell_type": "markdown",
   "metadata": {},
   "source": [
    "<center><img src=\"tmp/viz_objects/3.png\" alt=\"Normalize\" style=\"width: 700px;\"/></center>"
   ]
  },
  {
   "cell_type": "markdown",
   "metadata": {},
   "source": [
    "<div style=\"background-color:rgba(192,192,192,0.3); font-size:105%; color:black\">\n",
    "<p>After normalizing:</p>\n",
    "</div>`"
   ]
  },
  {
   "cell_type": "markdown",
   "metadata": {},
   "source": [
    "<center><img src=\"tmp/viz_objects/3_simplify.png\" alt=\"Simplify\" style=\"width: 500px;\"/></center>"
   ]
  },
  {
   "cell_type": "markdown",
   "metadata": {},
   "source": [
    "<div style=\"background-color:rgba(192,192,192,0.3); font-size:105%; color:black\">\n",
    "<h4> Step 3:</h4>\n",
    "<p>Linearly transform node feature matrix.</p>\n",
    "</div>"
   ]
  },
  {
   "cell_type": "code",
   "execution_count": 47,
   "metadata": {},
   "outputs": [],
   "source": [
    "from torch.nn import Parameter\n",
    "from torch_geometric.nn.inits import glorot, zeros"
   ]
  },
  {
   "cell_type": "code",
   "execution_count": 130,
   "metadata": {},
   "outputs": [],
   "source": [
    "in_channels = 2\n",
    "out_channels = 2 # for vizualization purpose, we are setting it to 2"
   ]
  },
  {
   "cell_type": "code",
   "execution_count": 131,
   "metadata": {},
   "outputs": [],
   "source": [
    "torch.manual_seed(42)\n",
    "weight = Parameter(torch.Tensor(in_channels, out_channels))\n",
    "bias = Parameter(torch.Tensor(out_channels))\n",
    "glorot(weight)\n",
    "zeros(bias)"
   ]
  },
  {
   "cell_type": "code",
   "execution_count": 143,
   "metadata": {},
   "outputs": [],
   "source": [
    "x = torch.matmul(g.x, weight)"
   ]
  },
  {
   "cell_type": "code",
   "execution_count": 144,
   "metadata": {},
   "outputs": [
    {
     "data": {
      "text/plain": [
       "tensor([[ 1.5858,  3.1582],\n",
       "        [ 2.9603, 11.8331],\n",
       "        [ 0.8006, 10.9251],\n",
       "        [11.2364, 12.1986]], grad_fn=<MmBackward>)"
      ]
     },
     "execution_count": 144,
     "metadata": {},
     "output_type": "execute_result"
    }
   ],
   "source": [
    "x"
   ]
  },
  {
   "cell_type": "markdown",
   "metadata": {},
   "source": [
    "<center><img src=\"tmp/viz_objects/4_new.png\" alt=\"Convolve\" style=\"width: 500px;\"/></center>"
   ]
  },
  {
   "cell_type": "markdown",
   "metadata": {},
   "source": [
    "<div style=\"background-color:rgba(192,192,192,0.3); font-size:105%; color:black\">\n",
    "<h4> Step 4:</h4>\n",
    "<p>Normalize node features in ϕ.</p>\n",
    "</div>"
   ]
  },
  {
   "cell_type": "markdown",
   "metadata": {},
   "source": [
    "<div style=\"background-color:rgba(192,192,192,0.3); font-size:105%; color:black\">\n",
    "<p>Preparing the linearly transformed node features.</p>\n",
    "</div>"
   ]
  },
  {
   "cell_type": "code",
   "execution_count": 147,
   "metadata": {},
   "outputs": [],
   "source": [
    "x = x.index_select(-2, new_edge_index[0])"
   ]
  },
  {
   "cell_type": "code",
   "execution_count": 148,
   "metadata": {},
   "outputs": [
    {
     "data": {
      "text/plain": [
       "tensor([[ 1.5858,  3.1582],\n",
       "        [ 2.9603, 11.8331],\n",
       "        [ 0.8006, 10.9251],\n",
       "        [ 1.5858,  3.1582],\n",
       "        [11.2364, 12.1986],\n",
       "        [ 1.5858,  3.1582],\n",
       "        [ 2.9603, 11.8331],\n",
       "        [ 0.8006, 10.9251],\n",
       "        [11.2364, 12.1986]], grad_fn=<IndexSelectBackward>)"
      ]
     },
     "execution_count": 148,
     "metadata": {},
     "output_type": "execute_result"
    }
   ],
   "source": [
    "x"
   ]
  },
  {
   "cell_type": "markdown",
   "metadata": {},
   "source": [
    "<div style=\"background-color:rgba(192,192,192,0.3); font-size:105%; color:black\">\n",
    "<p>Preparing the normalization coefficients.</p>\n",
    "</div>"
   ]
  },
  {
   "cell_type": "code",
   "execution_count": 150,
   "metadata": {},
   "outputs": [],
   "source": [
    "normalized_coefficients = normalized_coefficients.view(-1, 1)"
   ]
  },
  {
   "cell_type": "code",
   "execution_count": 151,
   "metadata": {},
   "outputs": [
    {
     "data": {
      "text/plain": [
       "tensor([[0.4264],\n",
       "        [1.0660],\n",
       "        [0.4330],\n",
       "        [0.2132],\n",
       "        [1.4434],\n",
       "        [0.0909],\n",
       "        [0.1250],\n",
       "        [0.1667],\n",
       "        [0.5000]])"
      ]
     },
     "execution_count": 151,
     "metadata": {},
     "output_type": "execute_result"
    }
   ],
   "source": [
    "normalized_coefficients"
   ]
  },
  {
   "cell_type": "code",
   "execution_count": 153,
   "metadata": {},
   "outputs": [],
   "source": [
    "normalized_node_features = normalized_coefficients * x"
   ]
  },
  {
   "cell_type": "code",
   "execution_count": 154,
   "metadata": {},
   "outputs": [
    {
     "data": {
      "text/plain": [
       "tensor([[ 0.6762,  1.3466],\n",
       "        [ 3.1557, 12.6142],\n",
       "        [ 0.3467,  4.7307],\n",
       "        [ 0.3381,  0.6733],\n",
       "        [16.2183, 17.6071],\n",
       "        [ 0.1442,  0.2871],\n",
       "        [ 0.3700,  1.4791],\n",
       "        [ 0.1334,  1.8208],\n",
       "        [ 5.6182,  6.0993]], grad_fn=<MulBackward0>)"
      ]
     },
     "execution_count": 154,
     "metadata": {},
     "output_type": "execute_result"
    }
   ],
   "source": [
    "normalized_node_features"
   ]
  },
  {
   "cell_type": "markdown",
   "metadata": {},
   "source": [
    "$$\\begin{pmatrix}\n",
    "     1.5858 &  3.1582 \\\\\n",
    "     2.9603 & 11.8331 \\\\\n",
    "     0.8006 & 10.9251 \\\\\n",
    "     1.5858 &  3.1582 \\\\\n",
    "    11.2364 & 12.1986 \\\\\n",
    "     1.5858 &  3.1582 \\\\\n",
    "     2.9603 & 11.8331 \\\\\n",
    "     0.8006 & 10.9251 \\\\\n",
    "    11.2364 & 12.1986 \\\\\n",
    "    \\end{pmatrix}\n",
    "    \\bullet\n",
    " \\begin{pmatrix}\n",
    " 0.4264\\\\\n",
    " 1.0660\\\\\n",
    " 0.4330\\\\\n",
    " 0.2132\\\\\n",
    " 1.4434\\\\\n",
    " 0.0909\\\\\n",
    " 0.1250\\\\\n",
    " 0.1667\\\\\n",
    " 0.5000\\\\\n",
    "\\end{pmatrix}\n",
    "=\n",
    "\\begin{pmatrix}\n",
    "0.6762 &  1.3466\\\\\n",
    "3.1557 & 12.6142\\\\\n",
    "0.3467 &  4.7307\\\\\n",
    "0.3381 &  0.6733\\\\\n",
    "16.2183 & 17.6071\\\\\n",
    "0.1442 &  0.2871\\\\\n",
    "0.3700 &  1.4791\\\\\n",
    "0.1334 &  1.8208\\\\\n",
    "5.6182 &  6.0993\\\\\n",
    "\\end{pmatrix}$$"
   ]
  },
  {
   "cell_type": "code",
   "execution_count": 159,
   "metadata": {},
   "outputs": [
    {
     "data": {
      "text/plain": [
       "tensor([[0, 1, 2, 0, 3, 0, 1, 2, 3],\n",
       "        [1, 0, 1, 3, 2, 0, 1, 2, 3]])"
      ]
     },
     "execution_count": 159,
     "metadata": {},
     "output_type": "execute_result"
    }
   ],
   "source": [
    "new_edge_index"
   ]
  },
  {
   "cell_type": "markdown",
   "metadata": {},
   "source": [
    "<div style=\"background-color:rgba(192,192,192,0.3); font-size:105%; color:black\">\n",
    "<h4> Step 5:</h4>\n",
    "<p>Sum up neighboring node features (if <b>\"add\"</b> aggregation).</p>\n",
    "</div>"
   ]
  },
  {
   "cell_type": "markdown",
   "metadata": {},
   "source": [
    "<div style=\"background-color:rgba(192,192,192,0.3); font-size:105%; color:black\">\n",
    "<p>Other techniques can also be used for aggregation:\n",
    "<ul>\n",
    "<li> Summation\n",
    "<li> Average\n",
    "<li> Max\n",
    "</ul>\n",
    "</p>\n",
    "</div>"
   ]
  },
  {
   "cell_type": "code",
   "execution_count": 157,
   "metadata": {},
   "outputs": [],
   "source": [
    "from torch_scatter import scatter"
   ]
  },
  {
   "cell_type": "code",
   "execution_count": 164,
   "metadata": {},
   "outputs": [
    {
     "data": {
      "text/plain": [
       "tensor([[0, 1, 2, 0, 3, 0, 1, 2, 3],\n",
       "        [1, 0, 1, 3, 2, 0, 1, 2, 3]])"
      ]
     },
     "execution_count": 164,
     "metadata": {},
     "output_type": "execute_result"
    }
   ],
   "source": [
    "new_edge_index"
   ]
  },
  {
   "cell_type": "code",
   "execution_count": 173,
   "metadata": {},
   "outputs": [],
   "source": [
    "new_x = scatter(normalized_node_features, index=new_edge_index[1], dim=-2, dim_size=4,\n",
    "                           reduce=\"add\")"
   ]
  },
  {
   "cell_type": "code",
   "execution_count": 174,
   "metadata": {},
   "outputs": [
    {
     "data": {
      "text/plain": [
       "tensor([[ 3.2998, 12.9013],\n",
       "        [ 1.3929,  7.5565],\n",
       "        [16.3517, 19.4280],\n",
       "        [ 5.9563,  6.7726]], grad_fn=<ScatterAddBackward>)"
      ]
     },
     "execution_count": 174,
     "metadata": {},
     "output_type": "execute_result"
    }
   ],
   "source": [
    "new_x"
   ]
  },
  {
   "cell_type": "markdown",
   "metadata": {},
   "source": [
    "<center><img src=\"tmp/viz_objects/5.png\" alt=\"Updated\" style=\"width: 500px;\"/></center>"
   ]
  }
 ],
 "metadata": {
  "kernelspec": {
   "display_name": "Python 3.8.5 64-bit ('gcn': conda)",
   "language": "python",
   "name": "python38564bitgcncondacb855bff8b454c0bbae31f8183fac245"
  },
  "language_info": {
   "codemirror_mode": {
    "name": "ipython",
    "version": 3
   },
   "file_extension": ".py",
   "mimetype": "text/x-python",
   "name": "python",
   "nbconvert_exporter": "python",
   "pygments_lexer": "ipython3",
   "version": "3.8.5"
  }
 },
 "nbformat": 4,
 "nbformat_minor": 4
}
