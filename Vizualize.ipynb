{
 "cells": [
  {
   "cell_type": "markdown",
   "metadata": {},
   "source": [
    "$$\\mathbf{x}_i^{(k)} = \\gamma^{(k)} \\left( \\mathbf{x}_i^{(k-1)}, \\square_{j \\in \\mathcal{N}(i)} \\, \\phi^{(k)}\\left(\\mathbf{x}_i^{(k-1)}, \\mathbf{x}_j^{(k-1)},\\mathbf{e}_{j,i}\\right) \\right)$$"
   ]
  },
  {
   "cell_type": "markdown",
   "metadata": {},
   "source": [
    "<center><img src=\"tmp/viz_objects/1.png\" alt=\"Input\" style=\"width: 500px;\"/></center>"
   ]
  },
  {
   "cell_type": "code",
   "execution_count": null,
   "metadata": {},
   "outputs": [],
   "source": []
  },
  {
   "cell_type": "markdown",
   "metadata": {},
   "source": [
    "<center><img src=\"tmp/viz_objects/2.png\" alt=\"Add-Self-Loop\" style=\"width: 500px;\"/></center>"
   ]
  },
  {
   "cell_type": "code",
   "execution_count": null,
   "metadata": {},
   "outputs": [],
   "source": []
  },
  {
   "cell_type": "markdown",
   "metadata": {},
   "source": [
    "<center><img src=\"tmp/viz_objects/3.png\" alt=\"Normalize\" style=\"width: 500px;\"/></center>"
   ]
  },
  {
   "cell_type": "code",
   "execution_count": null,
   "metadata": {},
   "outputs": [],
   "source": []
  },
  {
   "cell_type": "markdown",
   "metadata": {},
   "source": [
    "<center><img src=\"tmp/viz_objects/3_simplify.png\" alt=\"Simplify\" style=\"width: 500px;\"/></center>"
   ]
  },
  {
   "cell_type": "code",
   "execution_count": null,
   "metadata": {},
   "outputs": [],
   "source": []
  },
  {
   "cell_type": "markdown",
   "metadata": {},
   "source": [
    "<center><img src=\"tmp/viz_objects/4.png\" alt=\"Convolve\" style=\"width: 500px;\"/></center>"
   ]
  },
  {
   "cell_type": "code",
   "execution_count": null,
   "metadata": {},
   "outputs": [],
   "source": []
  },
  {
   "cell_type": "markdown",
   "metadata": {},
   "source": [
    "$$\\begin{pmatrix}\n",
    "    1.15e+00 &  8.24e-03 \\\\\n",
    "    1.69e+00 &  3.47e+00 \\\\\n",
    "   -1.37e-01 &  5.43e+00 \\\\\n",
    "    1.15e+00 &  8.24e-03 \\\\\n",
    "    8.97e+00 & -5.86e+00 \\\\\n",
    "    1.15e+00 &  8.24e-03 \\\\\n",
    "    1.69e+00 &  3.47e+00 \\\\\n",
    "   -1.37e-01 &  5.43e+00 \\\\\n",
    "    8.97e+00 & -5.86e+00\n",
    "    \\end{pmatrix}\n",
    "    \\bullet\n",
    " \\begin{pmatrix}\n",
    " 0.4264\\\\\n",
    " 1.0660\\\\\n",
    " 0.4330\\\\\n",
    " 0.2132\\\\\n",
    " 1.4434\\\\\n",
    " 0.0909\\\\\n",
    " 0.1250\\\\\n",
    " 0.1667\\\\\n",
    " 0.5000\\\\\n",
    "\\end{pmatrix}\n",
    "=\n",
    "\\begin{pmatrix}\n",
    " 4.92e-01 &  3.51e-03\\\\\n",
    " 1.81e+00 &  3.69e+00\\\\\n",
    "-5.94e-02 &  2.35e+00\\\\\n",
    " 2.46e-01 &  1.75e-03\\\\\n",
    " 1.29e+01 & -8.46e+00\\\\\n",
    " 1.05e-01 &  7.49e-04\\\\\n",
    " 2.12e-01 &  4.33e-01\\\\\n",
    "-2.28e-02 &  9.05e-01\\\\\n",
    " 4.48e+00 & -2.93e+00\\\\\n",
    "\\end{pmatrix}$$"
   ]
  },
  {
   "cell_type": "code",
   "execution_count": null,
   "metadata": {},
   "outputs": [],
   "source": []
  }
 ],
 "metadata": {
  "kernelspec": {
   "display_name": "Python 3.8.5 64-bit ('gcn': conda)",
   "language": "python",
   "name": "python38564bitgcncondacb855bff8b454c0bbae31f8183fac245"
  },
  "language_info": {
   "codemirror_mode": {
    "name": "ipython",
    "version": 3
   },
   "file_extension": ".py",
   "mimetype": "text/x-python",
   "name": "python",
   "nbconvert_exporter": "python",
   "pygments_lexer": "ipython3",
   "version": "3.8.5"
  }
 },
 "nbformat": 4,
 "nbformat_minor": 4
}
