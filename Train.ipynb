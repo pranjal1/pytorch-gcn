{
 "cells": [
  {
   "cell_type": "code",
   "execution_count": 1,
   "metadata": {},
   "outputs": [],
   "source": [
    "%reload_ext autoreload\n",
    "%autoreload 2"
   ]
  },
  {
   "cell_type": "code",
   "execution_count": 18,
   "metadata": {},
   "outputs": [],
   "source": [
    "from gcn.dataloader import YooChooseDataset\n",
    "from gcn.model import SAGEConv"
   ]
  },
  {
   "cell_type": "code",
   "execution_count": 13,
   "metadata": {},
   "outputs": [],
   "source": [
    "from torch_geometric import utils, data\n",
    "from matplotlib import pyplot as plt\n",
    "import networkx as nx\n",
    "import torch"
   ]
  },
  {
   "cell_type": "code",
   "execution_count": 4,
   "metadata": {},
   "outputs": [
    {
     "name": "stderr",
     "output_type": "stream",
     "text": [
      "2020-08-24 22:54:52.018 | INFO     | gcn.dataloader:raw_file_names:32 - Required files check!\n",
      "2020-08-24 22:54:52.021 | INFO     | gcn.dataloader:initialize_df:49 - Loading dataset...\n"
     ]
    },
    {
     "name": "stdout",
     "output_type": "stream",
     "text": [
      "Processing...\n"
     ]
    },
    {
     "name": "stderr",
     "output_type": "stream",
     "text": [
      "/home/pranjal/miniconda3/envs/gcn/lib/python3.8/site-packages/torch_geometric/data/dataset.py:92: DtypeWarning: Columns (3) have mixed types.Specify dtype option on import or set low_memory=False.\n",
      "  self._process()\n",
      "2020-08-24 22:55:17.397 | INFO     | gcn.dataloader:initialize_df:54 - Removing sessions with less than 3 item ids...\n",
      "2020-08-24 22:55:31.014 | INFO     | gcn.dataloader:initialize_df:62 - Sampling 250000 sessions...\n",
      "2020-08-24 22:55:34.299 | INFO     | gcn.dataloader:initialize_df:69 - Mapping item ids to smaller range...\n",
      "2020-08-24 22:55:34.435 | INFO     | gcn.dataloader:initialize_df:74 - Determining the target class of the sessions (buy/not buy)...\n",
      "2020-08-24 22:55:35.295 | INFO     | gcn.dataloader:initialize_df:80 - Loading dataset done!\n",
      "2020-08-24 22:55:35.296 | INFO     | gcn.dataloader:process:86 - Processing dataset...\n",
      "100%|██████████| 250000/250000 [07:42<00:00, 540.24it/s]\n",
      "2020-08-24 23:03:19.348 | INFO     | gcn.dataloader:process:110 - Completed processing!\n",
      "2020-08-24 23:03:21.878 | INFO     | gcn.dataloader:process:113 - Processed files saved as /home/pranjal/GCN/pytorch-gcn/tmp/yoochoose_click_binary_1M_sess.dataset\n"
     ]
    },
    {
     "name": "stdout",
     "output_type": "stream",
     "text": [
      "Done!\n"
     ]
    }
   ],
   "source": [
    "ds = YooChooseDataset(root=\"/home/pranjal/GCN/pytorch-gcn/tmp/\")"
   ]
  },
  {
   "cell_type": "code",
   "execution_count": 6,
   "metadata": {},
   "outputs": [],
   "source": [
    "g_sample = utils.to_networkx(ds[1000])"
   ]
  },
  {
   "cell_type": "code",
   "execution_count": 7,
   "metadata": {},
   "outputs": [
    {
     "data": {
      "image/png": "[encoded data removed]",
      "text/plain": [
       "<Figure size 432x288 with 1 Axes>"
      ]
     },
     "metadata": {},
     "output_type": "display_data"
    }
   ],
   "source": [
    "nx.draw_kamada_kawai(g_sample,with_labels=True)"
   ]
  },
  {
   "cell_type": "code",
   "execution_count": 8,
   "metadata": {},
   "outputs": [
    {
     "data": {
      "text/plain": [
       "[(0, {1: {}}), (1, {}), (2, {2: {}, 0: {}})]"
      ]
     },
     "execution_count": 8,
     "metadata": {},
     "output_type": "execute_result"
    }
   ],
   "source": [
    "list(g_sample.adjacency())"
   ]
  },
  {
   "cell_type": "code",
   "execution_count": 9,
   "metadata": {},
   "outputs": [
    {
     "data": {
      "text/plain": [
       "tensor([[11956],\n",
       "        [19581],\n",
       "        [19587]])"
      ]
     },
     "execution_count": 9,
     "metadata": {},
     "output_type": "execute_result"
    }
   ],
   "source": [
    "ds[1000].x"
   ]
  },
  {
   "cell_type": "code",
   "execution_count": 10,
   "metadata": {},
   "outputs": [
    {
     "data": {
      "text/plain": [
       "tensor([[2, 2, 2, 0],\n",
       "        [2, 2, 0, 1]])"
      ]
     },
     "execution_count": 10,
     "metadata": {},
     "output_type": "execute_result"
    }
   ],
   "source": [
    "ds[1000].edge_index"
   ]
  },
  {
   "cell_type": "code",
   "execution_count": 11,
   "metadata": {},
   "outputs": [],
   "source": [
    "dl = data.DataLoader(ds)"
   ]
  },
  {
   "cell_type": "code",
   "execution_count": 19,
   "metadata": {},
   "outputs": [],
   "source": [
    "item_embedding = torch.nn.Embedding(num_embeddings=ds.num_embeddings, embedding_dim=128)\n",
    "conv1 = SAGEConv(ds.num_embeddings, 128)"
   ]
  },
  {
   "cell_type": "code",
   "execution_count": 20,
   "metadata": {},
   "outputs": [
    {
     "name": "stdout",
     "output_type": "stream",
     "text": [
      "{'x_j': tensor([[-1.5221e+00, -1.4371e-01,  9.6662e-01,  4.6188e-01,  4.7348e-01,\n",
      "          2.6144e+00,  9.8917e-01, -1.6746e+00,  1.1619e+00, -2.0393e-01,\n",
      "         -1.7446e-02,  3.4510e-01, -7.2260e-01, -3.4675e-01, -1.8896e-02,\n",
      "          2.9418e+00, -5.3043e-01, -1.6757e+00, -7.3290e-01, -7.6428e-01,\n",
      "         -5.6603e-01,  1.6974e+00, -8.7238e-01,  2.1946e-01, -1.2636e-01,\n",
      "         -1.1942e+00, -1.3608e+00,  1.6836e-01, -1.5938e-01,  1.1587e+00,\n",
      "         -8.6225e-01, -9.5430e-01,  2.2718e-01, -4.2902e-01, -7.6824e-02,\n",
      "         -5.9915e-01, -1.0240e+00,  1.0141e+00, -4.8579e-01, -3.3743e-04,\n",
      "          2.6972e-01, -1.6407e+00, -1.6036e+00, -2.2635e+00, -1.3803e+00,\n",
      "          1.0574e+00, -1.0005e+00,  5.8273e-01, -2.5296e-01,  1.1079e+00,\n",
      "          5.8060e-01, -8.8053e-01,  1.7115e-02,  2.8928e-01,  5.5552e-01,\n",
      "          1.1360e-01,  7.1926e-01, -1.8682e-01, -1.0655e+00,  4.8070e-01,\n",
      "         -2.6548e-01,  1.3046e+00, -1.7333e-01,  4.7286e-02, -2.3143e+00,\n",
      "         -1.5305e+00, -1.2577e+00, -6.0764e-01, -9.1328e-01,  8.3362e-01,\n",
      "          2.0534e+00,  3.1823e-01,  2.0318e+00,  4.0100e-02, -6.4306e-01,\n",
      "          1.7910e+00,  1.3889e+00,  4.8946e-01, -1.5546e+00, -3.0347e-01,\n",
      "          1.7593e-01,  4.2023e-01,  3.7589e-01,  1.2478e+00,  3.4721e-01,\n",
      "         -3.4874e-01,  8.7457e-01,  1.2127e+00,  1.2150e+00, -1.3006e+00,\n",
      "         -1.2156e+00,  1.3019e+00, -1.5626e-01,  7.7907e-01, -2.8984e-01,\n",
      "          1.6684e+00, -7.8444e-01, -1.1822e+00, -2.1728e-01,  3.9258e-01,\n",
      "         -2.8058e-01,  5.8728e-03, -8.6621e-01,  1.1258e+00, -1.0704e+00,\n",
      "         -1.5773e+00,  8.1636e-01,  6.1303e-01,  1.1333e+00,  4.9857e-01,\n",
      "          9.4051e-01,  3.1543e-03, -9.7653e-01, -9.8540e-02,  2.3667e+00,\n",
      "         -1.3829e+00,  1.2132e+00,  2.0162e+00, -2.4655e-01,  1.5356e+00,\n",
      "         -7.8636e-01,  6.8382e-01, -2.9994e-01,  9.8645e-02,  1.1242e+00,\n",
      "          5.8075e-01,  4.6311e-01,  4.6115e-01],\n",
      "        [ 9.5984e-01, -4.1184e-01,  1.5771e+00, -7.4300e-01,  1.0854e+00,\n",
      "         -1.5522e+00, -1.0094e+00,  6.8445e-02,  9.6732e-02, -2.2777e-01,\n",
      "         -7.0252e-01,  1.2351e+00,  5.4909e-01,  7.8551e-01,  2.4250e-02,\n",
      "          6.7165e-02, -1.8194e-01,  1.7626e-01, -5.0016e-01,  9.2926e-03,\n",
      "         -1.1338e-01, -1.0889e+00, -1.2508e-01,  3.6636e-01, -1.8889e-01,\n",
      "          6.8086e-01,  2.4507e-02,  1.2083e+00,  1.4481e+00,  6.9172e-01,\n",
      "          1.2403e-01,  5.7249e-01,  2.3692e-01, -1.6464e-01, -1.4491e+00,\n",
      "         -1.1765e+00, -3.6889e-02, -1.3620e+00, -3.3285e-01, -1.3170e-01,\n",
      "         -1.3515e+00, -1.0703e+00,  5.6281e-01,  8.4367e-01, -1.7645e+00,\n",
      "          7.0519e-01,  6.1983e-01, -1.9828e+00, -3.1957e-01,  7.7184e-01,\n",
      "          7.7056e-01,  3.6660e-01,  6.7576e-01,  1.2405e-01, -2.9498e-01,\n",
      "         -1.0129e+00,  1.3513e+00, -6.2379e-01, -2.9028e-01, -7.0189e-01,\n",
      "         -7.3365e-01,  2.5617e-01,  1.4797e+00,  1.9074e-01, -7.7578e-01,\n",
      "          2.3838e+00, -1.5281e-01, -4.6154e-01,  1.0388e+00,  1.0068e+00,\n",
      "          1.5385e-01,  1.1884e+00,  5.2780e-01,  1.2247e+00, -2.7160e-01,\n",
      "         -1.2384e+00, -1.5931e-01, -7.0964e-02, -6.2468e-01, -6.2539e-01,\n",
      "         -2.8925e-01,  6.6698e-01,  1.1422e+00,  1.0858e+00, -7.9181e-01,\n",
      "          5.8677e-01,  8.0416e-01,  1.8017e+00,  1.4160e-01,  7.1975e-01,\n",
      "          9.3202e-01,  1.0625e-01, -1.5963e+00,  1.7624e+00, -2.5211e-01,\n",
      "          2.6554e+00, -1.0728e+00,  1.4829e+00, -1.5560e+00, -1.6284e+00,\n",
      "         -1.0345e+00,  1.1573e+00, -1.7729e+00, -1.6109e+00,  4.1982e-01,\n",
      "         -7.4981e-01,  1.4865e-01,  3.9645e-03, -2.2057e+00,  1.6288e-01,\n",
      "         -5.3537e-01, -6.7669e-01, -1.0476e+00,  1.5077e+00, -1.6802e+00,\n",
      "          2.0012e-02, -2.8477e-01, -2.2260e-01,  1.1505e+00, -1.4584e+00,\n",
      "         -2.9552e-01, -1.1479e-01, -7.0178e-01,  1.2646e+00, -1.6609e+00,\n",
      "         -1.0452e+00,  1.3227e+00, -2.1309e-01],\n",
      "        [ 6.3848e-01, -3.7100e-01,  1.0112e+00,  1.0280e+00, -9.7471e-01,\n",
      "         -1.0764e+00,  1.9869e+00,  1.0960e-01, -1.2345e+00,  2.8102e-02,\n",
      "         -3.3764e-01, -1.0752e+00, -3.6051e-03,  1.5881e+00,  1.6466e+00,\n",
      "         -1.0441e+00, -1.3506e+00,  7.0916e-01,  1.5312e-01,  4.7130e-01,\n",
      "         -2.3011e-01, -3.1225e-01,  1.7735e+00,  1.5128e+00,  4.3180e-01,\n",
      "          9.0345e-01, -2.0012e-01,  4.1307e-02, -4.6132e-01,  8.0089e-01,\n",
      "         -5.2848e-01, -6.5983e-01,  1.6089e+00, -3.4231e-01,  3.2489e-01,\n",
      "          8.0982e-01,  8.0177e-01,  6.9396e-01,  5.0630e-01, -1.5822e+00,\n",
      "         -5.3780e-01, -1.9328e+00,  3.5153e-01, -1.1947e+00, -1.2995e-02,\n",
      "          6.8279e-01, -2.2930e-01, -2.9134e+00,  2.3668e-02, -1.5190e-01,\n",
      "          9.5751e-01,  2.0891e+00, -8.9313e-01,  5.5502e-02, -1.0408e+00,\n",
      "         -4.1763e-01, -7.7592e-02,  9.9612e-01, -5.0081e-02, -7.9211e-01,\n",
      "          6.8771e-01,  1.5161e+00, -8.5588e-01,  5.3665e-02,  3.7322e-01,\n",
      "          1.9346e-01, -3.4546e-02,  2.5966e-01, -8.4815e-02, -1.0160e+00,\n",
      "          8.6595e-01,  1.6373e+00, -1.4409e+00, -3.5389e-02, -8.4069e-01,\n",
      "         -3.1782e-01,  1.2637e+00,  3.3675e-01,  1.3674e+00,  7.6647e-01,\n",
      "         -4.1084e-01, -4.2810e-01, -4.4186e-01,  2.7541e-01,  6.8463e-01,\n",
      "         -1.5263e+00,  2.3075e-01, -1.2471e+00, -1.9729e+00,  5.4901e-01,\n",
      "          3.1038e-02,  2.0617e+00,  1.2416e+00,  2.0810e-01, -5.4012e-01,\n",
      "          2.4442e-01,  1.4603e+00,  1.5874e+00,  4.1807e-01,  1.3976e+00,\n",
      "         -1.7364e-01,  8.9409e-01,  2.0779e-02,  8.4732e-01, -8.8164e-01,\n",
      "          1.3730e+00,  6.1333e-01, -1.8267e-01, -2.3432e+00, -1.5432e-01,\n",
      "          1.0859e+00, -8.7861e-01,  9.4073e-01,  5.4328e-01,  4.7224e-01,\n",
      "          1.9122e-01,  4.1117e-02, -1.0190e+00,  1.7563e+00,  2.6991e-01,\n",
      "          1.4954e+00, -3.5337e-01, -6.8885e-01, -1.9527e+00, -1.2529e+00,\n",
      "         -3.1060e-01, -1.0770e-01, -9.1821e-01],\n",
      "        [ 6.3848e-01, -3.7100e-01,  1.0112e+00,  1.0280e+00, -9.7471e-01,\n",
      "         -1.0764e+00,  1.9869e+00,  1.0960e-01, -1.2345e+00,  2.8102e-02,\n",
      "         -3.3764e-01, -1.0752e+00, -3.6051e-03,  1.5881e+00,  1.6466e+00,\n",
      "         -1.0441e+00, -1.3506e+00,  7.0916e-01,  1.5312e-01,  4.7130e-01,\n",
      "         -2.3011e-01, -3.1225e-01,  1.7735e+00,  1.5128e+00,  4.3180e-01,\n",
      "          9.0345e-01, -2.0012e-01,  4.1307e-02, -4.6132e-01,  8.0089e-01,\n",
      "         -5.2848e-01, -6.5983e-01,  1.6089e+00, -3.4231e-01,  3.2489e-01,\n",
      "          8.0982e-01,  8.0177e-01,  6.9396e-01,  5.0630e-01, -1.5822e+00,\n",
      "         -5.3780e-01, -1.9328e+00,  3.5153e-01, -1.1947e+00, -1.2995e-02,\n",
      "          6.8279e-01, -2.2930e-01, -2.9134e+00,  2.3668e-02, -1.5190e-01,\n",
      "          9.5751e-01,  2.0891e+00, -8.9313e-01,  5.5502e-02, -1.0408e+00,\n",
      "         -4.1763e-01, -7.7592e-02,  9.9612e-01, -5.0081e-02, -7.9211e-01,\n",
      "          6.8771e-01,  1.5161e+00, -8.5588e-01,  5.3665e-02,  3.7322e-01,\n",
      "          1.9346e-01, -3.4546e-02,  2.5966e-01, -8.4815e-02, -1.0160e+00,\n",
      "          8.6595e-01,  1.6373e+00, -1.4409e+00, -3.5389e-02, -8.4069e-01,\n",
      "         -3.1782e-01,  1.2637e+00,  3.3675e-01,  1.3674e+00,  7.6647e-01,\n",
      "         -4.1084e-01, -4.2810e-01, -4.4186e-01,  2.7541e-01,  6.8463e-01,\n",
      "         -1.5263e+00,  2.3075e-01, -1.2471e+00, -1.9729e+00,  5.4901e-01,\n",
      "          3.1038e-02,  2.0617e+00,  1.2416e+00,  2.0810e-01, -5.4012e-01,\n",
      "          2.4442e-01,  1.4603e+00,  1.5874e+00,  4.1807e-01,  1.3976e+00,\n",
      "         -1.7364e-01,  8.9409e-01,  2.0779e-02,  8.4732e-01, -8.8164e-01,\n",
      "          1.3730e+00,  6.1333e-01, -1.8267e-01, -2.3432e+00, -1.5432e-01,\n",
      "          1.0859e+00, -8.7861e-01,  9.4073e-01,  5.4328e-01,  4.7224e-01,\n",
      "          1.9122e-01,  4.1117e-02, -1.0190e+00,  1.7563e+00,  2.6991e-01,\n",
      "          1.4954e+00, -3.5337e-01, -6.8885e-01, -1.9527e+00, -1.2529e+00,\n",
      "         -3.1060e-01, -1.0770e-01, -9.1821e-01],\n",
      "        [ 9.5984e-01, -4.1184e-01,  1.5771e+00, -7.4300e-01,  1.0854e+00,\n",
      "         -1.5522e+00, -1.0094e+00,  6.8445e-02,  9.6732e-02, -2.2777e-01,\n",
      "         -7.0252e-01,  1.2351e+00,  5.4909e-01,  7.8551e-01,  2.4250e-02,\n",
      "          6.7165e-02, -1.8194e-01,  1.7626e-01, -5.0016e-01,  9.2926e-03,\n",
      "         -1.1338e-01, -1.0889e+00, -1.2508e-01,  3.6636e-01, -1.8889e-01,\n",
      "          6.8086e-01,  2.4507e-02,  1.2083e+00,  1.4481e+00,  6.9172e-01,\n",
      "          1.2403e-01,  5.7249e-01,  2.3692e-01, -1.6464e-01, -1.4491e+00,\n",
      "         -1.1765e+00, -3.6889e-02, -1.3620e+00, -3.3285e-01, -1.3170e-01,\n",
      "         -1.3515e+00, -1.0703e+00,  5.6281e-01,  8.4367e-01, -1.7645e+00,\n",
      "          7.0519e-01,  6.1983e-01, -1.9828e+00, -3.1957e-01,  7.7184e-01,\n",
      "          7.7056e-01,  3.6660e-01,  6.7576e-01,  1.2405e-01, -2.9498e-01,\n",
      "         -1.0129e+00,  1.3513e+00, -6.2379e-01, -2.9028e-01, -7.0189e-01,\n",
      "         -7.3365e-01,  2.5617e-01,  1.4797e+00,  1.9074e-01, -7.7578e-01,\n",
      "          2.3838e+00, -1.5281e-01, -4.6154e-01,  1.0388e+00,  1.0068e+00,\n",
      "          1.5385e-01,  1.1884e+00,  5.2780e-01,  1.2247e+00, -2.7160e-01,\n",
      "         -1.2384e+00, -1.5931e-01, -7.0964e-02, -6.2468e-01, -6.2539e-01,\n",
      "         -2.8925e-01,  6.6698e-01,  1.1422e+00,  1.0858e+00, -7.9181e-01,\n",
      "          5.8677e-01,  8.0416e-01,  1.8017e+00,  1.4160e-01,  7.1975e-01,\n",
      "          9.3202e-01,  1.0625e-01, -1.5963e+00,  1.7624e+00, -2.5211e-01,\n",
      "          2.6554e+00, -1.0728e+00,  1.4829e+00, -1.5560e+00, -1.6284e+00,\n",
      "         -1.0345e+00,  1.1573e+00, -1.7729e+00, -1.6109e+00,  4.1982e-01,\n",
      "         -7.4981e-01,  1.4865e-01,  3.9645e-03, -2.2057e+00,  1.6288e-01,\n",
      "         -5.3537e-01, -6.7669e-01, -1.0476e+00,  1.5077e+00, -1.6802e+00,\n",
      "          2.0012e-02, -2.8477e-01, -2.2260e-01,  1.1505e+00, -1.4584e+00,\n",
      "         -2.9552e-01, -1.1479e-01, -7.0178e-01,  1.2646e+00, -1.6609e+00,\n",
      "         -1.0452e+00,  1.3227e+00, -2.1309e-01],\n",
      "        [-1.5221e+00, -1.4371e-01,  9.6662e-01,  4.6188e-01,  4.7348e-01,\n",
      "          2.6144e+00,  9.8917e-01, -1.6746e+00,  1.1619e+00, -2.0393e-01,\n",
      "         -1.7446e-02,  3.4510e-01, -7.2260e-01, -3.4675e-01, -1.8896e-02,\n",
      "          2.9418e+00, -5.3043e-01, -1.6757e+00, -7.3290e-01, -7.6428e-01,\n",
      "         -5.6603e-01,  1.6974e+00, -8.7238e-01,  2.1946e-01, -1.2636e-01,\n",
      "         -1.1942e+00, -1.3608e+00,  1.6836e-01, -1.5938e-01,  1.1587e+00,\n",
      "         -8.6225e-01, -9.5430e-01,  2.2718e-01, -4.2902e-01, -7.6824e-02,\n",
      "         -5.9915e-01, -1.0240e+00,  1.0141e+00, -4.8579e-01, -3.3743e-04,\n",
      "          2.6972e-01, -1.6407e+00, -1.6036e+00, -2.2635e+00, -1.3803e+00,\n",
      "          1.0574e+00, -1.0005e+00,  5.8273e-01, -2.5296e-01,  1.1079e+00,\n",
      "          5.8060e-01, -8.8053e-01,  1.7115e-02,  2.8928e-01,  5.5552e-01,\n",
      "          1.1360e-01,  7.1926e-01, -1.8682e-01, -1.0655e+00,  4.8070e-01,\n",
      "         -2.6548e-01,  1.3046e+00, -1.7333e-01,  4.7286e-02, -2.3143e+00,\n",
      "         -1.5305e+00, -1.2577e+00, -6.0764e-01, -9.1328e-01,  8.3362e-01,\n",
      "          2.0534e+00,  3.1823e-01,  2.0318e+00,  4.0100e-02, -6.4306e-01,\n",
      "          1.7910e+00,  1.3889e+00,  4.8946e-01, -1.5546e+00, -3.0347e-01,\n",
      "          1.7593e-01,  4.2023e-01,  3.7589e-01,  1.2478e+00,  3.4721e-01,\n",
      "         -3.4874e-01,  8.7457e-01,  1.2127e+00,  1.2150e+00, -1.3006e+00,\n",
      "         -1.2156e+00,  1.3019e+00, -1.5626e-01,  7.7907e-01, -2.8984e-01,\n",
      "          1.6684e+00, -7.8444e-01, -1.1822e+00, -2.1728e-01,  3.9258e-01,\n",
      "         -2.8058e-01,  5.8728e-03, -8.6621e-01,  1.1258e+00, -1.0704e+00,\n",
      "         -1.5773e+00,  8.1636e-01,  6.1303e-01,  1.1333e+00,  4.9857e-01,\n",
      "          9.4051e-01,  3.1543e-03, -9.7653e-01, -9.8540e-02,  2.3667e+00,\n",
      "         -1.3829e+00,  1.2132e+00,  2.0162e+00, -2.4655e-01,  1.5356e+00,\n",
      "         -7.8636e-01,  6.8382e-01, -2.9994e-01,  9.8645e-02,  1.1242e+00,\n",
      "          5.8075e-01,  4.6311e-01,  4.6115e-01],\n",
      "        [-1.1550e+00,  1.1657e-01,  1.3432e+00,  4.3483e-01,  3.7411e-01,\n",
      "         -1.5662e-01, -1.4730e+00, -1.1269e-01, -3.7149e-01, -2.4545e-01,\n",
      "         -7.9799e-01,  1.3163e+00, -1.3780e-01,  9.7705e-02,  1.0944e+00,\n",
      "          5.8824e-01, -8.7989e-02,  9.5621e-01, -2.6898e+00,  6.8772e-01,\n",
      "         -1.2293e+00,  1.2814e+00, -3.9884e-02, -1.9758e+00,  6.2004e-01,\n",
      "          1.4437e+00,  4.0159e-01,  5.1878e-01, -1.9237e+00, -6.9085e-01,\n",
      "          8.2341e-02,  1.1182e+00,  8.9563e-02,  5.6168e-01,  1.3570e+00,\n",
      "         -1.4638e+00,  3.7325e-01, -1.2303e+00, -4.9422e-01, -4.6787e-01,\n",
      "          1.2636e+00,  1.2472e+00, -6.6926e-02,  1.8890e-01,  4.9928e-01,\n",
      "         -1.3347e+00, -7.3571e-01, -1.5930e+00,  1.8127e+00,  1.4193e+00,\n",
      "          2.1828e-02,  6.2312e-01,  4.3607e-01, -2.5138e+00, -6.2396e-02,\n",
      "         -8.1707e-01, -6.0829e-01, -1.3498e+00, -1.1016e+00,  1.0070e+00,\n",
      "          1.8163e+00,  5.3805e-01, -1.0283e+00, -1.4248e+00,  1.1166e+00,\n",
      "         -1.6404e-01, -7.8674e-01, -3.7390e-01, -1.3231e+00, -9.5690e-01,\n",
      "         -1.0031e+00, -1.7146e-01, -7.0459e-02, -1.1125e+00, -2.0638e-01,\n",
      "          2.1380e-01, -4.7537e-01,  2.0293e+00,  8.8265e-01,  1.3180e+00,\n",
      "          1.0397e+00,  2.3357e-02,  1.3891e+00,  6.8026e-01,  1.0066e+00,\n",
      "          1.5393e+00, -3.5301e-01, -9.6073e-01,  8.2610e-01, -3.1179e-01,\n",
      "          3.8187e-02,  1.9775e-01,  1.6095e-01,  1.2930e-01,  1.7898e+00,\n",
      "          5.3782e-01, -2.5064e-01,  6.9675e-01,  8.4969e-01,  7.7937e-01,\n",
      "          2.2875e-01,  6.3729e-01,  1.5973e-01, -6.0688e-01, -1.6081e+00,\n",
      "         -4.0006e-01, -4.5730e-01,  2.2766e+00, -1.3509e+00, -5.6501e-01,\n",
      "          8.2103e-01,  1.7826e+00, -2.9120e-01, -7.4208e-01, -2.4531e+00,\n",
      "          2.4004e+00, -1.6047e-01,  1.1101e+00, -5.8381e-02,  9.2510e-02,\n",
      "         -5.9338e-01, -3.1820e-01,  8.4351e-01,  7.8699e-01, -3.2315e-02,\n",
      "          8.8833e-01,  6.0631e-01,  1.7126e+00]],\n",
      "       grad_fn=<IndexSelectBackward>)}\n"
     ]
    },
    {
     "ename": "RuntimeError",
     "evalue": "size mismatch, m1: [7 x 128], m2: [28140 x 128] at /opt/conda/conda-bld/pytorch_1595629395347/work/aten/src/TH/generic/THTensorMath.cpp:41",
     "output_type": "error",
     "traceback": [
      "\u001b[0;31m---------------------------------------------------------------------------\u001b[0m",
      "\u001b[0;31mRuntimeError\u001b[0m                              Traceback (most recent call last)",
      "\u001b[0;32m<ipython-input-20-d44e6680e119>\u001b[0m in \u001b[0;36m<module>\u001b[0;34m\u001b[0m\n\u001b[1;32m      3\u001b[0m     \u001b[0mx\u001b[0m \u001b[0;34m=\u001b[0m \u001b[0mitem_embedding\u001b[0m\u001b[0;34m(\u001b[0m\u001b[0mx\u001b[0m\u001b[0;34m)\u001b[0m\u001b[0;34m\u001b[0m\u001b[0;34m\u001b[0m\u001b[0m\n\u001b[1;32m      4\u001b[0m     \u001b[0mx\u001b[0m \u001b[0;34m=\u001b[0m \u001b[0mx\u001b[0m\u001b[0;34m.\u001b[0m\u001b[0msqueeze\u001b[0m\u001b[0;34m(\u001b[0m\u001b[0;36m1\u001b[0m\u001b[0;34m)\u001b[0m\u001b[0;34m\u001b[0m\u001b[0;34m\u001b[0m\u001b[0m\n\u001b[0;32m----> 5\u001b[0;31m     \u001b[0my\u001b[0m \u001b[0;34m=\u001b[0m \u001b[0mconv1\u001b[0m\u001b[0;34m(\u001b[0m\u001b[0mx\u001b[0m\u001b[0;34m,\u001b[0m \u001b[0medge_index\u001b[0m\u001b[0;34m)\u001b[0m\u001b[0;34m\u001b[0m\u001b[0;34m\u001b[0m\u001b[0m\n\u001b[0m\u001b[1;32m      6\u001b[0m     \u001b[0;32mbreak\u001b[0m\u001b[0;34m\u001b[0m\u001b[0;34m\u001b[0m\u001b[0m\n",
      "\u001b[0;32m~/miniconda3/envs/gcn/lib/python3.8/site-packages/torch/nn/modules/module.py\u001b[0m in \u001b[0;36m_call_impl\u001b[0;34m(self, *input, **kwargs)\u001b[0m\n\u001b[1;32m    720\u001b[0m             \u001b[0mresult\u001b[0m \u001b[0;34m=\u001b[0m \u001b[0mself\u001b[0m\u001b[0;34m.\u001b[0m\u001b[0m_slow_forward\u001b[0m\u001b[0;34m(\u001b[0m\u001b[0;34m*\u001b[0m\u001b[0minput\u001b[0m\u001b[0;34m,\u001b[0m \u001b[0;34m**\u001b[0m\u001b[0mkwargs\u001b[0m\u001b[0;34m)\u001b[0m\u001b[0;34m\u001b[0m\u001b[0;34m\u001b[0m\u001b[0m\n\u001b[1;32m    721\u001b[0m         \u001b[0;32melse\u001b[0m\u001b[0;34m:\u001b[0m\u001b[0;34m\u001b[0m\u001b[0;34m\u001b[0m\u001b[0m\n\u001b[0;32m--> 722\u001b[0;31m             \u001b[0mresult\u001b[0m \u001b[0;34m=\u001b[0m \u001b[0mself\u001b[0m\u001b[0;34m.\u001b[0m\u001b[0mforward\u001b[0m\u001b[0;34m(\u001b[0m\u001b[0;34m*\u001b[0m\u001b[0minput\u001b[0m\u001b[0;34m,\u001b[0m \u001b[0;34m**\u001b[0m\u001b[0mkwargs\u001b[0m\u001b[0;34m)\u001b[0m\u001b[0;34m\u001b[0m\u001b[0;34m\u001b[0m\u001b[0m\n\u001b[0m\u001b[1;32m    723\u001b[0m         for hook in itertools.chain(\n\u001b[1;32m    724\u001b[0m                 \u001b[0m_global_forward_hooks\u001b[0m\u001b[0;34m.\u001b[0m\u001b[0mvalues\u001b[0m\u001b[0;34m(\u001b[0m\u001b[0;34m)\u001b[0m\u001b[0;34m,\u001b[0m\u001b[0;34m\u001b[0m\u001b[0;34m\u001b[0m\u001b[0m\n",
      "\u001b[0;32m~/GCN/pytorch-gcn/gcn/model.py\u001b[0m in \u001b[0;36mforward\u001b[0;34m(self, x, edge_index)\u001b[0m\n\u001b[1;32m     22\u001b[0m         \u001b[0medge_index\u001b[0m\u001b[0;34m,\u001b[0m \u001b[0m_\u001b[0m \u001b[0;34m=\u001b[0m \u001b[0madd_remaining_self_loops\u001b[0m\u001b[0;34m(\u001b[0m\u001b[0medge_index\u001b[0m\u001b[0;34m,\u001b[0m \u001b[0mnum_nodes\u001b[0m\u001b[0;34m=\u001b[0m\u001b[0mx\u001b[0m\u001b[0;34m.\u001b[0m\u001b[0msize\u001b[0m\u001b[0;34m(\u001b[0m\u001b[0;36m0\u001b[0m\u001b[0;34m)\u001b[0m\u001b[0;34m)\u001b[0m\u001b[0;34m\u001b[0m\u001b[0;34m\u001b[0m\u001b[0m\n\u001b[1;32m     23\u001b[0m \u001b[0;34m\u001b[0m\u001b[0m\n\u001b[0;32m---> 24\u001b[0;31m         \u001b[0;32mreturn\u001b[0m \u001b[0mself\u001b[0m\u001b[0;34m.\u001b[0m\u001b[0mpropagate\u001b[0m\u001b[0;34m(\u001b[0m\u001b[0medge_index\u001b[0m\u001b[0;34m,\u001b[0m \u001b[0msize\u001b[0m\u001b[0;34m=\u001b[0m\u001b[0;34m(\u001b[0m\u001b[0mx\u001b[0m\u001b[0;34m.\u001b[0m\u001b[0msize\u001b[0m\u001b[0;34m(\u001b[0m\u001b[0;36m0\u001b[0m\u001b[0;34m)\u001b[0m\u001b[0;34m,\u001b[0m \u001b[0mx\u001b[0m\u001b[0;34m.\u001b[0m\u001b[0msize\u001b[0m\u001b[0;34m(\u001b[0m\u001b[0;36m0\u001b[0m\u001b[0;34m)\u001b[0m\u001b[0;34m)\u001b[0m\u001b[0;34m,\u001b[0m \u001b[0mx\u001b[0m\u001b[0;34m=\u001b[0m\u001b[0mx\u001b[0m\u001b[0;34m)\u001b[0m\u001b[0;34m\u001b[0m\u001b[0;34m\u001b[0m\u001b[0m\n\u001b[0m\u001b[1;32m     25\u001b[0m \u001b[0;34m\u001b[0m\u001b[0m\n\u001b[1;32m     26\u001b[0m     \u001b[0;32mdef\u001b[0m \u001b[0mmessage\u001b[0m\u001b[0;34m(\u001b[0m\u001b[0mself\u001b[0m\u001b[0;34m,\u001b[0m \u001b[0mx_j\u001b[0m\u001b[0;34m)\u001b[0m\u001b[0;34m:\u001b[0m\u001b[0;34m\u001b[0m\u001b[0;34m\u001b[0m\u001b[0m\n",
      "\u001b[0;32m~/miniconda3/envs/gcn/lib/python3.8/site-packages/torch_geometric/nn/conv/message_passing.py\u001b[0m in \u001b[0;36mpropagate\u001b[0;34m(self, edge_index, size, **kwargs)\u001b[0m\n\u001b[1;32m    235\u001b[0m             \u001b[0mmsg_kwargs\u001b[0m \u001b[0;34m=\u001b[0m \u001b[0mself\u001b[0m\u001b[0;34m.\u001b[0m\u001b[0minspector\u001b[0m\u001b[0;34m.\u001b[0m\u001b[0mdistribute\u001b[0m\u001b[0;34m(\u001b[0m\u001b[0;34m'message'\u001b[0m\u001b[0;34m,\u001b[0m \u001b[0mcoll_dict\u001b[0m\u001b[0;34m)\u001b[0m\u001b[0;34m\u001b[0m\u001b[0;34m\u001b[0m\u001b[0m\n\u001b[1;32m    236\u001b[0m             \u001b[0mprint\u001b[0m\u001b[0;34m(\u001b[0m\u001b[0mmsg_kwargs\u001b[0m\u001b[0;34m)\u001b[0m\u001b[0;34m\u001b[0m\u001b[0;34m\u001b[0m\u001b[0m\n\u001b[0;32m--> 237\u001b[0;31m             \u001b[0mout\u001b[0m \u001b[0;34m=\u001b[0m \u001b[0mself\u001b[0m\u001b[0;34m.\u001b[0m\u001b[0mmessage\u001b[0m\u001b[0;34m(\u001b[0m\u001b[0;34m**\u001b[0m\u001b[0mmsg_kwargs\u001b[0m\u001b[0;34m)\u001b[0m\u001b[0;34m\u001b[0m\u001b[0;34m\u001b[0m\u001b[0m\n\u001b[0m\u001b[1;32m    238\u001b[0m \u001b[0;34m\u001b[0m\u001b[0m\n\u001b[1;32m    239\u001b[0m             \u001b[0;31m# For `GNNExplainer`, we require a separate message and aggregate\u001b[0m\u001b[0;34m\u001b[0m\u001b[0;34m\u001b[0m\u001b[0;34m\u001b[0m\u001b[0m\n",
      "\u001b[0;32m~/GCN/pytorch-gcn/gcn/model.py\u001b[0m in \u001b[0;36mmessage\u001b[0;34m(self, x_j)\u001b[0m\n\u001b[1;32m     27\u001b[0m         \u001b[0;31m# x_j has shape [E, in_channels]\u001b[0m\u001b[0;34m\u001b[0m\u001b[0;34m\u001b[0m\u001b[0;34m\u001b[0m\u001b[0m\n\u001b[1;32m     28\u001b[0m \u001b[0;34m\u001b[0m\u001b[0m\n\u001b[0;32m---> 29\u001b[0;31m         \u001b[0mx_j\u001b[0m \u001b[0;34m=\u001b[0m \u001b[0mself\u001b[0m\u001b[0;34m.\u001b[0m\u001b[0mlin\u001b[0m\u001b[0;34m(\u001b[0m\u001b[0mx_j\u001b[0m\u001b[0;34m)\u001b[0m\u001b[0;34m\u001b[0m\u001b[0;34m\u001b[0m\u001b[0m\n\u001b[0m\u001b[1;32m     30\u001b[0m         \u001b[0mx_j\u001b[0m \u001b[0;34m=\u001b[0m \u001b[0mself\u001b[0m\u001b[0;34m.\u001b[0m\u001b[0mact\u001b[0m\u001b[0;34m(\u001b[0m\u001b[0mx_j\u001b[0m\u001b[0;34m)\u001b[0m\u001b[0;34m\u001b[0m\u001b[0;34m\u001b[0m\u001b[0m\n\u001b[1;32m     31\u001b[0m \u001b[0;34m\u001b[0m\u001b[0m\n",
      "\u001b[0;32m~/miniconda3/envs/gcn/lib/python3.8/site-packages/torch/nn/modules/module.py\u001b[0m in \u001b[0;36m_call_impl\u001b[0;34m(self, *input, **kwargs)\u001b[0m\n\u001b[1;32m    720\u001b[0m             \u001b[0mresult\u001b[0m \u001b[0;34m=\u001b[0m \u001b[0mself\u001b[0m\u001b[0;34m.\u001b[0m\u001b[0m_slow_forward\u001b[0m\u001b[0;34m(\u001b[0m\u001b[0;34m*\u001b[0m\u001b[0minput\u001b[0m\u001b[0;34m,\u001b[0m \u001b[0;34m**\u001b[0m\u001b[0mkwargs\u001b[0m\u001b[0;34m)\u001b[0m\u001b[0;34m\u001b[0m\u001b[0;34m\u001b[0m\u001b[0m\n\u001b[1;32m    721\u001b[0m         \u001b[0;32melse\u001b[0m\u001b[0;34m:\u001b[0m\u001b[0;34m\u001b[0m\u001b[0;34m\u001b[0m\u001b[0m\n\u001b[0;32m--> 722\u001b[0;31m             \u001b[0mresult\u001b[0m \u001b[0;34m=\u001b[0m \u001b[0mself\u001b[0m\u001b[0;34m.\u001b[0m\u001b[0mforward\u001b[0m\u001b[0;34m(\u001b[0m\u001b[0;34m*\u001b[0m\u001b[0minput\u001b[0m\u001b[0;34m,\u001b[0m \u001b[0;34m**\u001b[0m\u001b[0mkwargs\u001b[0m\u001b[0;34m)\u001b[0m\u001b[0;34m\u001b[0m\u001b[0;34m\u001b[0m\u001b[0m\n\u001b[0m\u001b[1;32m    723\u001b[0m         for hook in itertools.chain(\n\u001b[1;32m    724\u001b[0m                 \u001b[0m_global_forward_hooks\u001b[0m\u001b[0;34m.\u001b[0m\u001b[0mvalues\u001b[0m\u001b[0;34m(\u001b[0m\u001b[0;34m)\u001b[0m\u001b[0;34m,\u001b[0m\u001b[0;34m\u001b[0m\u001b[0;34m\u001b[0m\u001b[0m\n",
      "\u001b[0;32m~/miniconda3/envs/gcn/lib/python3.8/site-packages/torch/nn/modules/linear.py\u001b[0m in \u001b[0;36mforward\u001b[0;34m(self, input)\u001b[0m\n\u001b[1;32m     89\u001b[0m \u001b[0;34m\u001b[0m\u001b[0m\n\u001b[1;32m     90\u001b[0m     \u001b[0;32mdef\u001b[0m \u001b[0mforward\u001b[0m\u001b[0;34m(\u001b[0m\u001b[0mself\u001b[0m\u001b[0;34m,\u001b[0m \u001b[0minput\u001b[0m\u001b[0;34m:\u001b[0m \u001b[0mTensor\u001b[0m\u001b[0;34m)\u001b[0m \u001b[0;34m->\u001b[0m \u001b[0mTensor\u001b[0m\u001b[0;34m:\u001b[0m\u001b[0;34m\u001b[0m\u001b[0;34m\u001b[0m\u001b[0m\n\u001b[0;32m---> 91\u001b[0;31m         \u001b[0;32mreturn\u001b[0m \u001b[0mF\u001b[0m\u001b[0;34m.\u001b[0m\u001b[0mlinear\u001b[0m\u001b[0;34m(\u001b[0m\u001b[0minput\u001b[0m\u001b[0;34m,\u001b[0m \u001b[0mself\u001b[0m\u001b[0;34m.\u001b[0m\u001b[0mweight\u001b[0m\u001b[0;34m,\u001b[0m \u001b[0mself\u001b[0m\u001b[0;34m.\u001b[0m\u001b[0mbias\u001b[0m\u001b[0;34m)\u001b[0m\u001b[0;34m\u001b[0m\u001b[0;34m\u001b[0m\u001b[0m\n\u001b[0m\u001b[1;32m     92\u001b[0m \u001b[0;34m\u001b[0m\u001b[0m\n\u001b[1;32m     93\u001b[0m     \u001b[0;32mdef\u001b[0m \u001b[0mextra_repr\u001b[0m\u001b[0;34m(\u001b[0m\u001b[0mself\u001b[0m\u001b[0;34m)\u001b[0m \u001b[0;34m->\u001b[0m \u001b[0mstr\u001b[0m\u001b[0;34m:\u001b[0m\u001b[0;34m\u001b[0m\u001b[0;34m\u001b[0m\u001b[0m\n",
      "\u001b[0;32m~/miniconda3/envs/gcn/lib/python3.8/site-packages/torch/nn/functional.py\u001b[0m in \u001b[0;36mlinear\u001b[0;34m(input, weight, bias)\u001b[0m\n\u001b[1;32m   1672\u001b[0m     \u001b[0;32mif\u001b[0m \u001b[0minput\u001b[0m\u001b[0;34m.\u001b[0m\u001b[0mdim\u001b[0m\u001b[0;34m(\u001b[0m\u001b[0;34m)\u001b[0m \u001b[0;34m==\u001b[0m \u001b[0;36m2\u001b[0m \u001b[0;32mand\u001b[0m \u001b[0mbias\u001b[0m \u001b[0;32mis\u001b[0m \u001b[0;32mnot\u001b[0m \u001b[0;32mNone\u001b[0m\u001b[0;34m:\u001b[0m\u001b[0;34m\u001b[0m\u001b[0;34m\u001b[0m\u001b[0m\n\u001b[1;32m   1673\u001b[0m         \u001b[0;31m# fused op is marginally faster\u001b[0m\u001b[0;34m\u001b[0m\u001b[0;34m\u001b[0m\u001b[0;34m\u001b[0m\u001b[0m\n\u001b[0;32m-> 1674\u001b[0;31m         \u001b[0mret\u001b[0m \u001b[0;34m=\u001b[0m \u001b[0mtorch\u001b[0m\u001b[0;34m.\u001b[0m\u001b[0maddmm\u001b[0m\u001b[0;34m(\u001b[0m\u001b[0mbias\u001b[0m\u001b[0;34m,\u001b[0m \u001b[0minput\u001b[0m\u001b[0;34m,\u001b[0m \u001b[0mweight\u001b[0m\u001b[0;34m.\u001b[0m\u001b[0mt\u001b[0m\u001b[0;34m(\u001b[0m\u001b[0;34m)\u001b[0m\u001b[0;34m)\u001b[0m\u001b[0;34m\u001b[0m\u001b[0;34m\u001b[0m\u001b[0m\n\u001b[0m\u001b[1;32m   1675\u001b[0m     \u001b[0;32melse\u001b[0m\u001b[0;34m:\u001b[0m\u001b[0;34m\u001b[0m\u001b[0;34m\u001b[0m\u001b[0m\n\u001b[1;32m   1676\u001b[0m         \u001b[0moutput\u001b[0m \u001b[0;34m=\u001b[0m \u001b[0minput\u001b[0m\u001b[0;34m.\u001b[0m\u001b[0mmatmul\u001b[0m\u001b[0;34m(\u001b[0m\u001b[0mweight\u001b[0m\u001b[0;34m.\u001b[0m\u001b[0mt\u001b[0m\u001b[0;34m(\u001b[0m\u001b[0;34m)\u001b[0m\u001b[0;34m)\u001b[0m\u001b[0;34m\u001b[0m\u001b[0;34m\u001b[0m\u001b[0m\n",
      "\u001b[0;31mRuntimeError\u001b[0m: size mismatch, m1: [7 x 128], m2: [28140 x 128] at /opt/conda/conda-bld/pytorch_1595629395347/work/aten/src/TH/generic/THTensorMath.cpp:41"
     ]
    }
   ],
   "source": [
    "for tr in dl:\n",
    "    x, edge_index, batch = tr.x, tr.edge_index, tr.batch\n",
    "    x = item_embedding(x)\n",
    "    x = x.squeeze(1)\n",
    "    y = conv1(x, edge_index)\n",
    "    break"
   ]
  },
  {
   "cell_type": "code",
   "execution_count": 17,
   "metadata": {},
   "outputs": [
    {
     "data": {
      "text/plain": [
       "torch.Size([4, 128])"
      ]
     },
     "execution_count": 17,
     "metadata": {},
     "output_type": "execute_result"
    }
   ],
   "source": [
    "x.shape"
   ]
  },
  {
   "cell_type": "code",
   "execution_count": 14,
   "metadata": {},
   "outputs": [],
   "source": []
  }
 ],
 "metadata": {
  "kernelspec": {
   "display_name": "Python 3.8.5 64-bit ('gcn': conda)",
   "language": "python",
   "name": "python38564bitgcncondacb855bff8b454c0bbae31f8183fac245"
  },
  "language_info": {
   "codemirror_mode": {
    "name": "ipython",
    "version": 3
   },
   "file_extension": ".py",
   "mimetype": "text/x-python",
   "name": "python",
   "nbconvert_exporter": "python",
   "pygments_lexer": "ipython3",
   "version": "3.8.5"
  }
 },
 "nbformat": 4,
 "nbformat_minor": 4
}
