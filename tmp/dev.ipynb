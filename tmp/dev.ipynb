{
 "cells": [
  {
   "cell_type": "code",
   "execution_count": 24,
   "metadata": {},
   "outputs": [],
   "source": [
    "import pandas as pd\n",
    "from sklearn.preprocessing import LabelEncoder\n",
    "import torch\n",
    "from torch_geometric.data import InMemoryDataset, Data"
   ]
  },
  {
   "cell_type": "code",
   "execution_count": 2,
   "metadata": {},
   "outputs": [
    {
     "name": "stderr",
     "output_type": "stream",
     "text": [
      "/home/pranjal/miniconda3/envs/gcn/lib/python3.8/site-packages/IPython/core/interactiveshell.py:3145: DtypeWarning: Columns (3) have mixed types.Specify dtype option on import or set low_memory=False.\n",
      "  has_raised = await self.run_ast_nodes(code_ast.body, cell_name,\n"
     ]
    }
   ],
   "source": [
    "df = pd.read_csv(\"yoochoose-clicks.dat\")"
   ]
  },
  {
   "cell_type": "code",
   "execution_count": 5,
   "metadata": {},
   "outputs": [],
   "source": [
    "df.columns = [\"session_id\", \"timestamp\", \"item_id\", \"category\"]"
   ]
  },
  {
   "cell_type": "code",
   "execution_count": 9,
   "metadata": {},
   "outputs": [],
   "source": [
    "grouped = df.groupby(\"session_id\")"
   ]
  },
  {
   "cell_type": "code",
   "execution_count": 48,
   "metadata": {},
   "outputs": [],
   "source": [
    "data_list = []\n",
    "count = 0\n",
    "for session_id, group in grouped:\n",
    "    sess_item_id = LabelEncoder().fit_transform(group.item_id)\n",
    "    group = group.reset_index(drop=True)\n",
    "    group[\"sess_item_id\"] = sess_item_id\n",
    "    group[\"label\"] = False\n",
    "    node_features = (\n",
    "        group.loc[group.session_id == session_id, [\"sess_item_id\", \"item_id\"]]\n",
    "        .sort_values(\"sess_item_id\")\n",
    "        .item_id.drop_duplicates()\n",
    "        .values\n",
    "    )\n",
    "    node_features = torch.LongTensor(node_features).unsqueeze(1)\n",
    "    target_nodes = group.sess_item_id.values[1:]\n",
    "    source_nodes = group.sess_item_id.values[:-1]\n",
    "\n",
    "    edge_index = torch.tensor([source_nodes, target_nodes], dtype=torch.long)\n",
    "    x = node_features\n",
    "\n",
    "    y = torch.FloatTensor([group.label.values[0]])\n",
    "\n",
    "    data = Data(x=x, edge_index=edge_index, y=y)\n",
    "    data_list.append(data)\n",
    "    count+=1\n",
    "    if count ==2:\n",
    "        break"
   ]
  },
  {
   "cell_type": "code",
   "execution_count": 53,
   "metadata": {},
   "outputs": [
    {
     "data": {
      "text/plain": [
       "array([214551617, 214662742, 214757390, 214757407, 214825110])"
      ]
     },
     "execution_count": 53,
     "metadata": {},
     "output_type": "execute_result"
    }
   ],
   "source": [
    "group.loc[group.session_id == session_id, [\"sess_item_id\", \"item_id\"]]\\\n",
    "        .sort_values(\"sess_item_id\")\\\n",
    "        .item_id.drop_duplicates()\\\n",
    "        .values"
   ]
  },
  {
   "cell_type": "code",
   "execution_count": 54,
   "metadata": {},
   "outputs": [
    {
     "data": {
      "text/plain": [
       "tensor([[1, 1, 4, 2, 3],\n",
       "        [1, 4, 2, 3, 0]])"
      ]
     },
     "execution_count": 54,
     "metadata": {},
     "output_type": "execute_result"
    }
   ],
   "source": [
    "edge_index"
   ]
  },
  {
   "cell_type": "code",
   "execution_count": 55,
   "metadata": {},
   "outputs": [
    {
     "data": {
      "text/plain": [
       "tensor([0.])"
      ]
     },
     "execution_count": 55,
     "metadata": {},
     "output_type": "execute_result"
    }
   ],
   "source": [
    "y"
   ]
  },
  {
   "cell_type": "code",
   "execution_count": 47,
   "metadata": {},
   "outputs": [
    {
     "data": {
      "text/plain": [
       "(tensor([[214551617],\n",
       "         [214662742],\n",
       "         [214757390],\n",
       "         [214757407],\n",
       "         [214825110]]),\n",
       " tensor([[1, 1, 4, 2, 3],\n",
       "         [1, 4, 2, 3, 0]]))"
      ]
     },
     "execution_count": 47,
     "metadata": {},
     "output_type": "execute_result"
    }
   ],
   "source": [
    "data_list[1].x,data_list[1].edge_index"
   ]
  },
  {
   "cell_type": "code",
   "execution_count": 46,
   "metadata": {},
   "outputs": [
    {
     "data": {
      "text/plain": [
       "[Data(edge_index=[2, 2], x=[3, 1], y=[1]),\n",
       " Data(edge_index=[2, 5], x=[5, 1], y=[1]),\n",
       " Data(edge_index=[2, 2], x=[3, 1], y=[1]),\n",
       " Data(edge_index=[2, 1], x=[2, 1], y=[1]),\n",
       " Data(edge_index=[2, 1], x=[2, 1], y=[1]),\n",
       " Data(edge_index=[2, 1], x=[2, 1], y=[1]),\n",
       " Data(edge_index=[2, 1], x=[1, 1], y=[1]),\n",
       " Data(edge_index=[2, 2], x=[1, 1], y=[1]),\n",
       " Data(edge_index=[2, 11], x=[9, 1], y=[1]),\n",
       " Data(edge_index=[2, 1], x=[1, 1], y=[1]),\n",
       " Data(edge_index=[2, 2], x=[2, 1], y=[1]),\n",
       " Data(edge_index=[2, 2], x=[2, 1], y=[1]),\n",
       " Data(edge_index=[2, 2], x=[1, 1], y=[1]),\n",
       " Data(edge_index=[2, 1], x=[2, 1], y=[1]),\n",
       " Data(edge_index=[2, 1], x=[1, 1], y=[1]),\n",
       " Data(edge_index=[2, 3], x=[2, 1], y=[1]),\n",
       " Data(edge_index=[2, 5], x=[2, 1], y=[1]),\n",
       " Data(edge_index=[2, 15], x=[11, 1], y=[1]),\n",
       " Data(edge_index=[2, 3], x=[1, 1], y=[1]),\n",
       " Data(edge_index=[2, 3], x=[2, 1], y=[1]),\n",
       " Data(edge_index=[2, 3], x=[4, 1], y=[1]),\n",
       " Data(edge_index=[2, 9], x=[9, 1], y=[1]),\n",
       " Data(edge_index=[2, 2], x=[2, 1], y=[1]),\n",
       " Data(edge_index=[2, 1], x=[2, 1], y=[1]),\n",
       " Data(edge_index=[2, 1], x=[1, 1], y=[1]),\n",
       " Data(edge_index=[2, 1], x=[2, 1], y=[1]),\n",
       " Data(edge_index=[2, 15], x=[4, 1], y=[1]),\n",
       " Data(edge_index=[2, 1], x=[2, 1], y=[1]),\n",
       " Data(edge_index=[2, 1], x=[2, 1], y=[1]),\n",
       " Data(edge_index=[2, 1], x=[2, 1], y=[1]),\n",
       " Data(edge_index=[2, 2], x=[2, 1], y=[1]),\n",
       " Data(edge_index=[2, 1], x=[2, 1], y=[1]),\n",
       " Data(edge_index=[2, 4], x=[1, 1], y=[1]),\n",
       " Data(edge_index=[2, 1], x=[1, 1], y=[1]),\n",
       " Data(edge_index=[2, 1], x=[2, 1], y=[1]),\n",
       " Data(edge_index=[2, 7], x=[8, 1], y=[1]),\n",
       " Data(edge_index=[2, 5], x=[1, 1], y=[1]),\n",
       " Data(edge_index=[2, 2], x=[3, 1], y=[1]),\n",
       " Data(edge_index=[2, 3], x=[4, 1], y=[1]),\n",
       " Data(edge_index=[2, 1], x=[2, 1], y=[1]),\n",
       " Data(edge_index=[2, 4], x=[5, 1], y=[1]),\n",
       " Data(edge_index=[2, 1], x=[2, 1], y=[1]),\n",
       " Data(edge_index=[2, 3], x=[2, 1], y=[1]),\n",
       " Data(edge_index=[2, 5], x=[3, 1], y=[1]),\n",
       " Data(edge_index=[2, 4], x=[4, 1], y=[1]),\n",
       " Data(edge_index=[2, 1], x=[1, 1], y=[1]),\n",
       " Data(edge_index=[2, 1], x=[2, 1], y=[1]),\n",
       " Data(edge_index=[2, 1], x=[1, 1], y=[1]),\n",
       " Data(edge_index=[2, 4], x=[1, 1], y=[1]),\n",
       " Data(edge_index=[2, 9], x=[10, 1], y=[1]),\n",
       " Data(edge_index=[2, 2], x=[3, 1], y=[1]),\n",
       " Data(edge_index=[2, 2], x=[3, 1], y=[1]),\n",
       " Data(edge_index=[2, 2], x=[1, 1], y=[1]),\n",
       " Data(edge_index=[2, 1], x=[2, 1], y=[1]),\n",
       " Data(edge_index=[2, 1], x=[2, 1], y=[1]),\n",
       " Data(edge_index=[2, 1], x=[2, 1], y=[1]),\n",
       " Data(edge_index=[2, 1], x=[2, 1], y=[1]),\n",
       " Data(edge_index=[2, 3], x=[2, 1], y=[1]),\n",
       " Data(edge_index=[2, 1], x=[1, 1], y=[1]),\n",
       " Data(edge_index=[2, 1], x=[2, 1], y=[1]),\n",
       " Data(edge_index=[2, 2], x=[3, 1], y=[1]),\n",
       " Data(edge_index=[2, 7], x=[4, 1], y=[1]),\n",
       " Data(edge_index=[2, 9], x=[7, 1], y=[1]),\n",
       " Data(edge_index=[2, 1], x=[2, 1], y=[1]),\n",
       " Data(edge_index=[2, 4], x=[2, 1], y=[1]),\n",
       " Data(edge_index=[2, 3], x=[4, 1], y=[1]),\n",
       " Data(edge_index=[2, 0], x=[1, 1], y=[1]),\n",
       " Data(edge_index=[2, 0], x=[1, 1], y=[1]),\n",
       " Data(edge_index=[2, 10], x=[9, 1], y=[1]),\n",
       " Data(edge_index=[2, 26], x=[20, 1], y=[1]),\n",
       " Data(edge_index=[2, 1], x=[2, 1], y=[1]),\n",
       " Data(edge_index=[2, 1], x=[2, 1], y=[1]),\n",
       " Data(edge_index=[2, 1], x=[2, 1], y=[1]),\n",
       " Data(edge_index=[2, 2], x=[3, 1], y=[1]),\n",
       " Data(edge_index=[2, 3], x=[4, 1], y=[1]),\n",
       " Data(edge_index=[2, 1], x=[2, 1], y=[1]),\n",
       " Data(edge_index=[2, 1], x=[1, 1], y=[1]),\n",
       " Data(edge_index=[2, 1], x=[2, 1], y=[1]),\n",
       " Data(edge_index=[2, 1], x=[1, 1], y=[1]),\n",
       " Data(edge_index=[2, 4], x=[5, 1], y=[1]),\n",
       " Data(edge_index=[2, 1], x=[2, 1], y=[1]),\n",
       " Data(edge_index=[2, 1], x=[2, 1], y=[1]),\n",
       " Data(edge_index=[2, 1], x=[1, 1], y=[1]),\n",
       " Data(edge_index=[2, 3], x=[4, 1], y=[1]),\n",
       " Data(edge_index=[2, 1], x=[2, 1], y=[1]),\n",
       " Data(edge_index=[2, 1], x=[2, 1], y=[1]),\n",
       " Data(edge_index=[2, 2], x=[2, 1], y=[1]),\n",
       " Data(edge_index=[2, 17], x=[10, 1], y=[1]),\n",
       " Data(edge_index=[2, 1], x=[2, 1], y=[1]),\n",
       " Data(edge_index=[2, 1], x=[2, 1], y=[1]),\n",
       " Data(edge_index=[2, 2], x=[3, 1], y=[1]),\n",
       " Data(edge_index=[2, 1], x=[2, 1], y=[1]),\n",
       " Data(edge_index=[2, 1], x=[2, 1], y=[1]),\n",
       " Data(edge_index=[2, 3], x=[4, 1], y=[1]),\n",
       " Data(edge_index=[2, 1], x=[2, 1], y=[1]),\n",
       " Data(edge_index=[2, 1], x=[2, 1], y=[1]),\n",
       " Data(edge_index=[2, 19], x=[13, 1], y=[1]),\n",
       " Data(edge_index=[2, 1], x=[2, 1], y=[1]),\n",
       " Data(edge_index=[2, 7], x=[5, 1], y=[1]),\n",
       " Data(edge_index=[2, 1], x=[1, 1], y=[1])]"
      ]
     },
     "execution_count": 46,
     "metadata": {},
     "output_type": "execute_result"
    }
   ],
   "source": [
    "data_list"
   ]
  },
  {
   "cell_type": "code",
   "execution_count": null,
   "metadata": {},
   "outputs": [],
   "source": []
  }
 ],
 "metadata": {
  "kernelspec": {
   "display_name": "Python 3",
   "language": "python",
   "name": "python3"
  },
  "language_info": {
   "codemirror_mode": {
    "name": "ipython",
    "version": 3
   },
   "file_extension": ".py",
   "mimetype": "text/x-python",
   "name": "python",
   "nbconvert_exporter": "python",
   "pygments_lexer": "ipython3",
   "version": "3.8.5"
  }
 },
 "nbformat": 4,
 "nbformat_minor": 4
}
