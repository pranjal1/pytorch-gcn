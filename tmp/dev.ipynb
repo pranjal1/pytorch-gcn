{
 "cells": [
  {
   "cell_type": "code",
   "execution_count": 3,
   "metadata": {},
   "outputs": [],
   "source": [
    "%reload_ext autoreload\n",
    "%autoreload 2"
   ]
  },
  {
   "cell_type": "code",
   "execution_count": 4,
   "metadata": {},
   "outputs": [],
   "source": [
    "import torch\n",
    "import numpy as np\n",
    "from torch_geometric import utils\n",
    "from torch_geometric.data import Data\n",
    "import networkx as nx\n",
    "import matplotlib.pyplot as plt\n",
    "import pandas as pd"
   ]
  },
  {
   "cell_type": "code",
   "execution_count": 5,
   "metadata": {},
   "outputs": [],
   "source": [
    "x = torch.tensor([[2,1], [5,6], [3,7], [12,0]], dtype=torch.float)\n",
    "y = torch.tensor([0, 1, 0, 1], dtype=torch.float)"
   ]
  },
  {
   "cell_type": "code",
   "execution_count": 6,
   "metadata": {},
   "outputs": [],
   "source": [
    "edge_index = torch.tensor([[0, 1, 2, 0, 3],\n",
    "                           [1, 0, 1, 3, 2]], dtype=torch.long)"
   ]
  },
  {
   "cell_type": "code",
   "execution_count": 7,
   "metadata": {},
   "outputs": [],
   "source": [
    "# [num_edges, num_edge_features]\n",
    "edge_attr = torch.tensor([4,10,3,1,5],dtype=torch.float)"
   ]
  },
  {
   "cell_type": "code",
   "execution_count": 8,
   "metadata": {},
   "outputs": [],
   "source": [
    "g = Data(x=x,edge_index=edge_index,edge_attr=edge_attr,y=y)"
   ]
  },
  {
   "cell_type": "code",
   "execution_count": 9,
   "metadata": {},
   "outputs": [],
   "source": [
    "def get_width(attr):\n",
    "    return np.sqrt(np.sum(np.square(attr)))"
   ]
  },
  {
   "cell_type": "code",
   "execution_count": 10,
   "metadata": {},
   "outputs": [
    {
     "data": {
      "image/png": "[encoded data removed]",
      "text/plain": [
       "<Figure size 864x360 with 1 Axes>"
      ]
     },
     "metadata": {},
     "output_type": "display_data"
    }
   ],
   "source": [
    "viz = utils.to_networkx(g,edge_attrs=[\"edge_attr\"])\n",
    "# labels = [i for i in dict(viz.nodes).keys()]\n",
    "labels = {i:i for i in dict(viz.nodes).keys()}\n",
    "width = [get_width(i['edge_attr']) for i in dict(viz.edges).values()]\n",
    "fig, ax = plt.subplots(figsize=(12,5))\n",
    "pos = nx.spring_layout(viz)\n",
    "nx.draw_networkx_nodes(viz, pos, ax = ax, labels=True)\n",
    "nx.draw_networkx_edges(viz, pos, ax=ax,width=width,style=\"solid\")\n",
    "_ = nx.draw_networkx_labels(viz, pos, labels, ax=ax)"
   ]
  },
  {
   "cell_type": "code",
   "execution_count": 11,
   "metadata": {},
   "outputs": [
    {
     "data": {
      "text/plain": [
       "AdjacencyView({0: {1: {'edge_attr': 4.0}, 3: {'edge_attr': 1.0}}, 1: {0: {'edge_attr': 10.0}}, 2: {1: {'edge_attr': 3.0}}, 3: {2: {'edge_attr': 5.0}}})"
      ]
     },
     "execution_count": 11,
     "metadata": {},
     "output_type": "execute_result"
    }
   ],
   "source": [
    "viz.adj"
   ]
  },
  {
   "cell_type": "code",
   "execution_count": 12,
   "metadata": {},
   "outputs": [],
   "source": [
    "from torch_geometric.nn import GCNConv, SAGEConv\n",
    "# from torch_geometric.utils.num_nodes import maybe_num_nodes\n",
    "# from torch_geometric.utils import add_remaining_self_loops\n",
    "# from torch_scatter import scatter_add"
   ]
  },
  {
   "cell_type": "code",
   "execution_count": 13,
   "metadata": {},
   "outputs": [],
   "source": [
    "conv1 = SAGEConv(2, 2,normalize=True)"
   ]
  },
  {
   "cell_type": "code",
   "execution_count": 14,
   "metadata": {},
   "outputs": [
    {
     "data": {
      "text/plain": [
       "tensor([[0, 1, 2, 0, 3],\n",
       "        [1, 0, 1, 3, 2]])"
      ]
     },
     "execution_count": 14,
     "metadata": {},
     "output_type": "execute_result"
    }
   ],
   "source": [
    "g.edge_index"
   ]
  },
  {
   "cell_type": "code",
   "execution_count": 15,
   "metadata": {},
   "outputs": [
    {
     "name": "stdout",
     "output_type": "stream",
     "text": [
      "{'x_j': tensor([[ 2.,  1.],\n",
      "        [ 5.,  6.],\n",
      "        [ 3.,  7.],\n",
      "        [ 2.,  1.],\n",
      "        [12.,  0.]]), 'adj_t': None, 'edge_index': tensor([[0, 1, 2, 0, 3],\n",
      "        [1, 0, 1, 3, 2]]), 'edge_index_i': tensor([1, 0, 1, 3, 2]), 'edge_index_j': tensor([0, 1, 2, 0, 3]), 'ptr': None, 'index': tensor([1, 0, 1, 3, 2]), 'size_i': 4, 'size_j': 4, 'dim_size': 4}\n",
      "{'x_j': tensor([[ 2.,  1.],\n",
      "        [ 5.,  6.],\n",
      "        [ 3.,  7.],\n",
      "        [ 2.,  1.],\n",
      "        [12.,  0.]])}\n",
      "tensor([[ 2.,  1.],\n",
      "        [ 5.,  6.],\n",
      "        [ 3.,  7.],\n",
      "        [ 2.,  1.],\n",
      "        [12.,  0.]])\n",
      "tensor([[ 5.0000,  6.0000],\n",
      "        [ 2.5000,  4.0000],\n",
      "        [12.0000,  0.0000],\n",
      "        [ 2.0000,  1.0000]])\n",
      "tensor([[-0.3426, -5.9185],\n",
      "        [-0.4275, -3.2263],\n",
      "        [ 4.5756, -7.9793],\n",
      "        [ 0.6047, -1.4603]], grad_fn=<AddmmBackward>)\n",
      "tensor([[-1.1472, -5.9019],\n",
      "        [-0.4335, -4.3162],\n",
      "        [ 6.5201, -9.7322],\n",
      "        [-7.6608,  0.5786]], grad_fn=<AddBackward0>)\n",
      "tensor([[-0.1908, -0.9816],\n",
      "        [-0.0999, -0.9950],\n",
      "        [ 0.5566, -0.8308],\n",
      "        [-0.9972,  0.0753]], grad_fn=<DivBackward0>)\n"
     ]
    }
   ],
   "source": [
    "op = conv1(g.x,g.edge_index)"
   ]
  },
  {
   "cell_type": "code",
   "execution_count": 14,
   "metadata": {},
   "outputs": [
    {
     "data": {
      "text/plain": [
       "tensor([[-0.9837,  1.7200],\n",
       "        [ 3.9761,  4.4613],\n",
       "        [-0.3111,  7.7616],\n",
       "        [ 4.1029,  7.8214]], grad_fn=<AddBackward0>)"
      ]
     },
     "execution_count": 14,
     "metadata": {},
     "output_type": "execute_result"
    }
   ],
   "source": [
    "# https://pytorch.org/docs/master/nn.functional.html#torch.nn.functional.normalize"
   ]
  },
  {
   "cell_type": "code",
   "execution_count": null,
   "metadata": {},
   "outputs": [],
   "source": []
  },
  {
   "cell_type": "code",
   "execution_count": null,
   "metadata": {},
   "outputs": [],
   "source": []
  },
  {
   "cell_type": "code",
   "execution_count": 50,
   "metadata": {},
   "outputs": [],
   "source": [
    "def gcn_norm(edge_index,edge_weight=None,fill_value=1.,num_nodes=None, dtype=torch.float):\n",
    "    num_nodes = maybe_num_nodes(edge_index, num_nodes)\n",
    "\n",
    "    if edge_weight is None:\n",
    "        edge_weight = torch.ones((edge_index.size(1), ), dtype=dtype,\n",
    "                                 device=edge_index.device)\n",
    "\n",
    "    if True:\n",
    "        edge_index, tmp_edge_weight = add_remaining_self_loops(\n",
    "            edge_index, edge_weight, fill_value, num_nodes)\n",
    "        assert tmp_edge_weight is not None\n",
    "        print(edge_index)\n",
    "        print(tmp_edge_weight)\n",
    "        edge_weight = tmp_edge_weight\n",
    "\n",
    "    row, col = edge_index[0], edge_index[1]\n",
    "    deg = scatter_add(edge_weight, col, dim=0, dim_size=num_nodes)\n",
    "    print(deg)\n",
    "    deg_inv_sqrt = deg.pow_(-0.5)\n",
    "    deg_inv_sqrt.masked_fill_(deg_inv_sqrt == float('inf'), 0)\n",
    "    print(deg_inv_sqrt)\n",
    "    print(deg_inv_sqrt[row])\n",
    "    print(deg_inv_sqrt[col])\n",
    "    return edge_index, deg_inv_sqrt[row] * edge_weight * deg_inv_sqrt[col]"
   ]
  },
  {
   "cell_type": "code",
   "execution_count": 51,
   "metadata": {},
   "outputs": [
    {
     "name": "stdout",
     "output_type": "stream",
     "text": [
      "tensor([[0, 1, 2, 0, 3, 0, 1, 2, 3],\n",
      "        [1, 0, 1, 3, 2, 0, 1, 2, 3]])\n",
      "tensor([ 4., 10.,  3.,  1.,  5.,  1.,  1.,  1.,  1.])\n",
      "tensor([11.,  8.,  6.,  2.])\n",
      "tensor([0.3015, 0.3536, 0.4082, 0.7071])\n",
      "tensor([0.3015, 0.3536, 0.4082, 0.3015, 0.7071, 0.3015, 0.3536, 0.4082, 0.7071])\n",
      "tensor([0.3536, 0.3015, 0.3536, 0.7071, 0.4082, 0.3015, 0.3536, 0.4082, 0.7071])\n"
     ]
    }
   ],
   "source": [
    "edge_index, edge_weight = gcn_norm(g.edge_index,g.edge_attr)"
   ]
  },
  {
   "cell_type": "code",
   "execution_count": 47,
   "metadata": {},
   "outputs": [
    {
     "data": {
      "text/plain": [
       "tensor([0.4264, 1.0660, 0.4330, 0.2132, 1.4434, 0.0909, 0.1250, 0.1667, 0.5000])"
      ]
     },
     "execution_count": 47,
     "metadata": {},
     "output_type": "execute_result"
    }
   ],
   "source": [
    "edge_weight"
   ]
  },
  {
   "cell_type": "code",
   "execution_count": 64,
   "metadata": {},
   "outputs": [],
   "source": [
    "import torch\n",
    "from torch_scatter.utils import broadcast\n",
    "from typing import Optional, Tuple"
   ]
  },
  {
   "cell_type": "code",
   "execution_count": 98,
   "metadata": {},
   "outputs": [],
   "source": [
    "@torch.jit.script\n",
    "def scatter_sum(src: torch.Tensor, index: torch.Tensor, dim: int = -1,\n",
    "                out: Optional[torch.Tensor] = None,\n",
    "                dim_size: Optional[int] = None) -> torch.Tensor:\n",
    "    index = broadcast(index, src, dim)\n",
    "    if out is None:\n",
    "        size = src.size()\n",
    "        if dim_size is not None:\n",
    "            size[dim] = dim_size\n",
    "        elif index.numel() == 0:\n",
    "            size[dim] = 0\n",
    "        else:\n",
    "            size[dim] = int(index.max()) + 1\n",
    "        out = torch.zeros(size, dtype=src.dtype, device=src.device)\n",
    "        return out.scatter_add_(dim, index, src)\n",
    "    else:\n",
    "        return out.scatter_add_(dim, index, src)"
   ]
  },
  {
   "cell_type": "code",
   "execution_count": 99,
   "metadata": {},
   "outputs": [
    {
     "data": {
      "text/plain": [
       "tensor([[ 4.,  2.],\n",
       "        [15., 18.],\n",
       "        [ 6., 14.],\n",
       "        [24.,  0.]])"
      ]
     },
     "execution_count": 99,
     "metadata": {},
     "output_type": "execute_result"
    }
   ],
   "source": [
    "scatter_sum(g.x[edge_index[1]],edge_index[1],dim=-2,dim_size=4)"
   ]
  },
  {
   "cell_type": "code",
   "execution_count": 90,
   "metadata": {},
   "outputs": [
    {
     "data": {
      "text/plain": [
       "tensor([[ 5.,  6.],\n",
       "        [ 2.,  1.],\n",
       "        [ 5.,  6.],\n",
       "        [12.,  0.],\n",
       "        [ 3.,  7.],\n",
       "        [ 2.,  1.],\n",
       "        [ 5.,  6.],\n",
       "        [ 3.,  7.],\n",
       "        [12.,  0.]])"
      ]
     },
     "execution_count": 90,
     "metadata": {},
     "output_type": "execute_result"
    }
   ],
   "source": [
    "g.x[edge_index[1]]"
   ]
  },
  {
   "cell_type": "code",
   "execution_count": 100,
   "metadata": {},
   "outputs": [
    {
     "data": {
      "text/plain": [
       "tensor([1, 0, 1, 3, 2, 0, 1, 2, 3])"
      ]
     },
     "execution_count": 100,
     "metadata": {},
     "output_type": "execute_result"
    }
   ],
   "source": [
    "edge_index[1]"
   ]
  },
  {
   "cell_type": "code",
   "execution_count": null,
   "metadata": {},
   "outputs": [],
   "source": []
  },
  {
   "cell_type": "code",
   "execution_count": null,
   "metadata": {},
   "outputs": [],
   "source": []
  },
  {
   "cell_type": "code",
   "execution_count": 22,
   "metadata": {},
   "outputs": [],
   "source": [
    "import pandas as pd\n",
    "import seaborn as sns\n",
    "import random\n",
    "from matplotlib import pyplot as plt"
   ]
  },
  {
   "cell_type": "code",
   "execution_count": 27,
   "metadata": {},
   "outputs": [],
   "source": [
    "data = []\n",
    "for x in range(100):\n",
    "    data.append({\"t\":x,\"x1\":random.randint(0,100),\"x2\":random.randint(0,20)})"
   ]
  },
  {
   "cell_type": "code",
   "execution_count": 28,
   "metadata": {},
   "outputs": [],
   "source": [
    "data_df = pd.DataFrame(data)"
   ]
  },
  {
   "cell_type": "code",
   "execution_count": 29,
   "metadata": {},
   "outputs": [],
   "source": [
    "df = data_df.copy()\n",
    "df = df.melt('t', var_name='x',  value_name='vals')"
   ]
  },
  {
   "cell_type": "code",
   "execution_count": 34,
   "metadata": {},
   "outputs": [
    {
     "data": {
      "text/plain": [
       "<AxesSubplot:xlabel='t', ylabel='vals'>"
      ]
     },
     "execution_count": 34,
     "metadata": {},
     "output_type": "execute_result"
    },
    {
     "data": {
      "image/png": "[encoded data removed]",
      "text/plain": [
       "<Figure size 720x360 with 1 Axes>"
      ]
     },
     "metadata": {
      "needs_background": "light"
     },
     "output_type": "display_data"
    }
   ],
   "source": [
    "plt.figure(figsize=(10,5))\n",
    "sns.lineplot(x=df[\"t\"],y=df[\"vals\"],hue='x', data=df)"
   ]
  },
  {
   "cell_type": "code",
   "execution_count": null,
   "metadata": {},
   "outputs": [],
   "source": []
  },
  {
   "cell_type": "code",
   "execution_count": 1,
   "metadata": {},
   "outputs": [],
   "source": [
    "import torch\n",
    "import numpy as np"
   ]
  },
  {
   "cell_type": "code",
   "execution_count": 4,
   "metadata": {},
   "outputs": [],
   "source": [
    "a = np.array([[1,1],[2,2]]).astype(np.float)"
   ]
  },
  {
   "cell_type": "code",
   "execution_count": 7,
   "metadata": {},
   "outputs": [],
   "source": [
    "b = np.array([[3,3,3],[4,4,4]]).astype(np.float)"
   ]
  },
  {
   "cell_type": "code",
   "execution_count": 8,
   "metadata": {},
   "outputs": [],
   "source": [
    "at = torch.from_numpy(a)\n",
    "bt = torch.from_numpy(b)"
   ]
  },
  {
   "cell_type": "code",
   "execution_count": 11,
   "metadata": {},
   "outputs": [
    {
     "data": {
      "text/plain": [
       "tensor([[1., 1., 3., 3., 3.],\n",
       "        [2., 2., 4., 4., 4.]], dtype=torch.float64)"
      ]
     },
     "execution_count": 11,
     "metadata": {},
     "output_type": "execute_result"
    }
   ],
   "source": [
    "torch.cat([at,bt],dim=1)"
   ]
  },
  {
   "cell_type": "code",
   "execution_count": 4,
   "metadata": {},
   "outputs": [],
   "source": [
    "from torch_geometric.nn import GCNConv, SAGEConv, avg_pool"
   ]
  },
  {
   "cell_type": "code",
   "execution_count": null,
   "metadata": {},
   "outputs": [],
   "source": []
  }
 ],
 "metadata": {
  "kernelspec": {
   "display_name": "Python 3",
   "language": "python",
   "name": "python3"
  },
  "language_info": {
   "codemirror_mode": {
    "name": "ipython",
    "version": 3
   },
   "file_extension": ".py",
   "mimetype": "text/x-python",
   "name": "python",
   "nbconvert_exporter": "python",
   "pygments_lexer": "ipython3",
   "version": "3.8.5"
  }
 },
 "nbformat": 4,
 "nbformat_minor": 4
}
